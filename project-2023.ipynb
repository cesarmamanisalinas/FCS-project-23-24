{
 "cells": [
  {
   "cell_type": "markdown",
   "id": "ec6f05cf-3769-4381-b7eb-a9d8de052d69",
   "metadata": {
    "editable": true,
    "slideshow": {
     "slide_type": ""
    },
    "tags": []
   },
   "source": [
    "# 2023 Project\n",
    "\n",
    "You have to work on the [ZTBus: A Large Dataset of Time-Resolved City Bus Driving Missions](https://www.research-collection.ethz.ch/handle/20.500.11850/626723) repository.\n",
    "\n",
    "It contains:\n",
    "*  [metaData.csv](https://www.research-collection.ethz.ch/bitstream/handle/20.500.11850/626723/metaData.csv?sequence=1&isAllowed=y), shortly *trips*\n",
    "*  several other files containing detailed data on some bus parameters, whose name is in the *trips* file. Those files can be downloaded as a [zip file](https://www.research-collection.ethz.ch/bitstream/handle/20.500.11850/626723/ZTBus_compressed.zip?sequence=3&isAllowed=y). Let us call those datasets the *details* datasets.\n",
    "\n",
    "### Notes\n",
    "\n",
    "1.    It is mandatory to use GitHub for developing the project.\n",
    "1.    The project must be a jupyter notebook.\n",
    "1.    There is no restriction on the libraries that can be used, nor on the Python version.\n",
    "1.    All questions on the project **must** be asked in a public channel on [Zulip](https://focs.zulipchat.com).\n",
    "1.    At most 3 students can be in each group. You must create the groups by yourself. You can use the Zulip channel to create the groups.\n",
    "1.    You do not have to send me the project *before* the discussion."
   ]
  },
  {
   "cell_type": "markdown",
   "id": "79123e1e-876e-46b3-af1f-dc3254bc0396",
   "metadata": {},
   "source": [
    "Importing ZTBus Dataframe and data for each bus (all_buses_data)"
   ]
  },
  {
   "cell_type": "code",
   "execution_count": 1,
   "id": "05db7d22-6439-45e5-914b-27c080041a90",
   "metadata": {},
   "outputs": [],
   "source": [
    "import pandas as pd\n",
    "ZTBus = pd.read_csv(\"metaData.csv\")"
   ]
  },
  {
   "cell_type": "code",
   "execution_count": 2,
   "id": "bbebe3d2-5d0d-4c0f-957c-460caa82a0d4",
   "metadata": {},
   "outputs": [
    {
     "data": {
      "text/plain": [
       "(1409, 16)"
      ]
     },
     "execution_count": 2,
     "metadata": {},
     "output_type": "execute_result"
    }
   ],
   "source": [
    "ZTBus.shape"
   ]
  },
  {
   "cell_type": "code",
   "execution_count": 3,
   "id": "7e5aa306-3157-468a-922c-9d866a581b38",
   "metadata": {
    "tags": []
   },
   "outputs": [],
   "source": [
    "# For each bus data\n",
    "# First we create a list of all the bus names\n",
    "names = ZTBus[\"name\"].tolist()\n",
    "\n",
    "# Creates a dictionary to store the bus databases\n",
    "bus_data_dict = {}\n",
    "\n",
    "# Iterate over the bus names\n",
    "for name in names:\n",
    "    # Reads the bus database\n",
    "    df_bus = pd.read_csv(f\"{name}.csv\")\n",
    "\n",
    "    # Add the \"name\" column of the bus\n",
    "    df_bus[\"name\"] = name\n",
    "    \n",
    "    # Stores the DataFrame in the dictionary\n",
    "    bus_data_dict[name] = df_bus"
   ]
  },
  {
   "cell_type": "code",
   "execution_count": 4,
   "id": "ab95c519-88ee-4434-93da-adb520fdfcc0",
   "metadata": {
    "tags": []
   },
   "outputs": [],
   "source": [
    "all_buses_data = pd.concat(bus_data_dict.values(), ignore_index=True)"
   ]
  },
  {
   "cell_type": "code",
   "execution_count": 5,
   "id": "6d749935-1f3a-47c2-8141-dc8fd3cdacf6",
   "metadata": {
    "tags": []
   },
   "outputs": [
    {
     "data": {
      "text/plain": [
       "(48674462, 27)"
      ]
     },
     "execution_count": 5,
     "metadata": {},
     "output_type": "execute_result"
    }
   ],
   "source": [
    "all_buses_data.shape"
   ]
  },
  {
   "cell_type": "markdown",
   "id": "9e4e157a-c1f4-4fe8-9c78-57ab3a950e81",
   "metadata": {},
   "source": [
    "* Delete columns that we are not going to use\n",
    "* Create 2 variables containing a list of the columns to be eliminated\n",
    "* we have changed the variable:\n",
    "    * ZTBus -> ztbus\n",
    "    * all_buses_data -> df_bus"
   ]
  },
  {
   "cell_type": "code",
   "execution_count": 6,
   "id": "a99f8aa5-7ffc-461c-bab4-47fa3bffb3da",
   "metadata": {
    "tags": []
   },
   "outputs": [
    {
     "data": {
      "text/plain": [
       "Index(['name', 'busNumber', 'startTime_iso', 'startTime_unix', 'endTime_iso',\n",
       "       'endTime_unix', 'drivenDistance', 'busRoute', 'energyConsumption',\n",
       "       'itcs_numberOfPassengers_mean', 'itcs_numberOfPassengers_min',\n",
       "       'itcs_numberOfPassengers_max', 'status_gridIsAvailable_mean',\n",
       "       'temperature_ambient_mean', 'temperature_ambient_min',\n",
       "       'temperature_ambient_max'],\n",
       "      dtype='object')"
      ]
     },
     "execution_count": 6,
     "metadata": {},
     "output_type": "execute_result"
    }
   ],
   "source": [
    "ZTBus.columns"
   ]
  },
  {
   "cell_type": "code",
   "execution_count": 7,
   "id": "cfe77ead-3f75-4041-a6e1-b62258827735",
   "metadata": {},
   "outputs": [],
   "source": [
    "columns_to_drop_ztbus = ['startTime_unix', 'endTime_iso', 'endTime_unix',\n",
    "                         'itcs_numberOfPassengers_min', 'itcs_numberOfPassengers_max',\n",
    "                         'status_gridIsAvailable_mean','temperature_ambient_min','temperature_ambient_max']\n",
    "ztbus = ZTBus.drop(columns=columns_to_drop_ztbus, axis=1)\n"
   ]
  },
  {
   "cell_type": "code",
   "execution_count": 8,
   "id": "e7d8bf5b-2178-41ad-8b39-8237919ca3e9",
   "metadata": {
    "tags": []
   },
   "outputs": [
    {
     "data": {
      "text/plain": [
       "Index(['time_iso', 'time_unix', 'electric_powerDemand', 'gnss_altitude',\n",
       "       'gnss_course', 'gnss_latitude', 'gnss_longitude', 'itcs_busRoute',\n",
       "       'itcs_numberOfPassengers', 'itcs_stopName',\n",
       "       'odometry_articulationAngle', 'odometry_steeringAngle',\n",
       "       'odometry_vehicleSpeed', 'odometry_wheelSpeed_fl',\n",
       "       'odometry_wheelSpeed_fr', 'odometry_wheelSpeed_ml',\n",
       "       'odometry_wheelSpeed_mr', 'odometry_wheelSpeed_rl',\n",
       "       'odometry_wheelSpeed_rr', 'status_doorIsOpen', 'status_gridIsAvailable',\n",
       "       'status_haltBrakeIsActive', 'status_parkBrakeIsActive',\n",
       "       'temperature_ambient', 'traction_brakePressure',\n",
       "       'traction_tractionForce', 'name'],\n",
       "      dtype='object')"
      ]
     },
     "execution_count": 8,
     "metadata": {},
     "output_type": "execute_result"
    }
   ],
   "source": [
    "all_buses_data.columns"
   ]
  },
  {
   "cell_type": "code",
   "execution_count": 9,
   "id": "03053236-26f4-477d-9f24-28b52af090c1",
   "metadata": {},
   "outputs": [],
   "source": [
    "columns_to_drop_buses = ['time_unix', 'electric_powerDemand', 'odometry_articulationAngle','gnss_course',\n",
    "                          'odometry_steeringAngle', 'odometry_wheelSpeed_fl', 'odometry_wheelSpeed_fr',\n",
    "                          'odometry_wheelSpeed_ml', 'odometry_wheelSpeed_mr', 'odometry_wheelSpeed_rl',\n",
    "                          'odometry_wheelSpeed_rr', 'status_gridIsAvailable',\n",
    "                          'traction_brakePressure', 'traction_tractionForce']\n",
    "df_bus = all_buses_data.drop(columns=columns_to_drop_buses, axis=1)\n"
   ]
  },
  {
   "cell_type": "code",
   "execution_count": 10,
   "id": "0e6e5e31-1810-4745-8bbc-96deb3834412",
   "metadata": {
    "tags": []
   },
   "outputs": [
    {
     "data": {
      "text/plain": [
       "(1409, 8)"
      ]
     },
     "execution_count": 10,
     "metadata": {},
     "output_type": "execute_result"
    }
   ],
   "source": [
    "ztbus.shape"
   ]
  },
  {
   "cell_type": "code",
   "execution_count": 11,
   "id": "29f60687-128f-4c0e-87e6-fbc288419470",
   "metadata": {
    "tags": []
   },
   "outputs": [
    {
     "data": {
      "text/plain": [
       "(48674462, 13)"
      ]
     },
     "execution_count": 11,
     "metadata": {},
     "output_type": "execute_result"
    }
   ],
   "source": [
    "df_bus.shape"
   ]
  },
  {
   "cell_type": "markdown",
   "id": "9906af6b-081b-47d6-aa70-e9e42c0789b0",
   "metadata": {},
   "source": [
    "Explaining the meanings of each column"
   ]
  },
  {
   "cell_type": "markdown",
   "id": "51a0acf5-3a7b-4c9b-9fda-35e2051f2474",
   "metadata": {},
   "source": [
    "ZTBUS Columns:\n",
    "\n",
    "* name: Unique identifier of the bus.\n",
    "* busNumber: Bus number.\n",
    "* startTime_iso: start time in ISO format (e.g. '2022-01-16T12:30:45').\n",
    "* drivenDistance: Distance covered by the bus.\n",
    "* busRoute: Bus route.\n",
    "* energyConsumption: Bus energy consumption.\n",
    "* itcs_numberOfPassengers_mean: Average number of passengers. \n",
    "* temperature_ambient_mean: Average ambient temperature.\n"
   ]
  },
  {
   "cell_type": "markdown",
   "id": "8fc73e2c-e800-48c4-a998-098ae9c1260b",
   "metadata": {},
   "source": [
    "DF_BUS Columns\n",
    "\n",
    "* time_iso: start time in ISO format (e.g. '2022-01-16T12:30:45')\n",
    "* gnss_altitude: Altitude obtained from the global positioning system.\n",
    "* gnss_latitude: Latitude obtained from the global positioning system.\n",
    "* gnss_longitude: Longitude obtained from the global positioning system.\n",
    "* itcs_busRoute: Bus route.\n",
    "* itcs_numberOfPassengers: Number of passengers.\n",
    "* itcs_stopName: Name of the stop.\n",
    "* odometry_vehicleSpeed: Vehicle speed according to the odometer.\n",
    "* status_doorIsOpen: Status of whether the doors are open.\n",
    "* status_haltBrakeIsActive: Status of whether the parking brake is active.\n",
    "* status_parkBrakeIsActive: Status of whether the parking brake is active.\n",
    "* temperature_ambient: Ambient temperature.\n",
    "* name: Unique identifier of the bus."
   ]
  },
  {
   "cell_type": "markdown",
   "id": "f7b53047-e978-4335-b854-4be7d0c2b1e6",
   "metadata": {},
   "source": [
    "We save the modified DFs"
   ]
  },
  {
   "cell_type": "code",
   "execution_count": 12,
   "id": "7b13493d-178c-49e2-a20c-4f95e6d324e5",
   "metadata": {
    "tags": []
   },
   "outputs": [],
   "source": [
    "ztbus.to_csv('ztbus.csv', index=False)"
   ]
  },
  {
   "cell_type": "code",
   "execution_count": 13,
   "id": "eedd5d12-d783-4e0e-97c6-d1184cd6692f",
   "metadata": {
    "tags": []
   },
   "outputs": [],
   "source": [
    "df_bus.to_csv('df_bus.csv', index=False)"
   ]
  },
  {
   "cell_type": "markdown",
   "id": "b7a0ffa6-ad32-446f-8780-eb3138658e14",
   "metadata": {
    "editable": true,
    "slideshow": {
     "slide_type": ""
    },
    "tags": []
   },
   "source": [
    "### 1. Extract all trips with `busRoute` 83"
   ]
  },
  {
   "cell_type": "markdown",
   "id": "8c0020a1-6829-46b3-b6c5-8558ed51936a",
   "metadata": {},
   "source": [
    "The bus trips are in the ztbus database, so let's filter where the column \"busRoute\" = 83"
   ]
  },
  {
   "cell_type": "code",
   "execution_count": 14,
   "id": "337173d6-6be6-4b87-975b-32a7e5726a3b",
   "metadata": {
    "tags": []
   },
   "outputs": [
    {
     "data": {
      "text/html": [
       "<div>\n",
       "<style scoped>\n",
       "    .dataframe tbody tr th:only-of-type {\n",
       "        vertical-align: middle;\n",
       "    }\n",
       "\n",
       "    .dataframe tbody tr th {\n",
       "        vertical-align: top;\n",
       "    }\n",
       "\n",
       "    .dataframe thead th {\n",
       "        text-align: right;\n",
       "    }\n",
       "</style>\n",
       "<table border=\"1\" class=\"dataframe\">\n",
       "  <thead>\n",
       "    <tr style=\"text-align: right;\">\n",
       "      <th></th>\n",
       "      <th>name</th>\n",
       "      <th>busNumber</th>\n",
       "      <th>startTime_iso</th>\n",
       "      <th>drivenDistance</th>\n",
       "      <th>busRoute</th>\n",
       "      <th>energyConsumption</th>\n",
       "      <th>itcs_numberOfPassengers_mean</th>\n",
       "      <th>temperature_ambient_mean</th>\n",
       "    </tr>\n",
       "  </thead>\n",
       "  <tbody>\n",
       "    <tr>\n",
       "      <th>154</th>\n",
       "      <td>B183_2020-03-03_04-42-38_2020-03-03_19-44-51</td>\n",
       "      <td>183</td>\n",
       "      <td>2020-03-03T04:42:38Z</td>\n",
       "      <td>225047.90</td>\n",
       "      <td>83</td>\n",
       "      <td>1.544278e+09</td>\n",
       "      <td>23.47531</td>\n",
       "      <td>280.5450</td>\n",
       "    </tr>\n",
       "    <tr>\n",
       "      <th>155</th>\n",
       "      <td>B183_2020-03-06_04-53-23_2020-03-06_19-44-42</td>\n",
       "      <td>183</td>\n",
       "      <td>2020-03-06T04:53:23Z</td>\n",
       "      <td>224512.30</td>\n",
       "      <td>83</td>\n",
       "      <td>1.631816e+09</td>\n",
       "      <td>17.41578</td>\n",
       "      <td>279.8850</td>\n",
       "    </tr>\n",
       "    <tr>\n",
       "      <th>157</th>\n",
       "      <td>B183_2020-03-09_14-16-13_2020-03-09_19-34-17</td>\n",
       "      <td>183</td>\n",
       "      <td>2020-03-09T14:16:13Z</td>\n",
       "      <td>77824.36</td>\n",
       "      <td>83</td>\n",
       "      <td>5.406013e+08</td>\n",
       "      <td>23.18182</td>\n",
       "      <td>281.0489</td>\n",
       "    </tr>\n",
       "  </tbody>\n",
       "</table>\n",
       "</div>"
      ],
      "text/plain": [
       "                                             name  busNumber  \\\n",
       "154  B183_2020-03-03_04-42-38_2020-03-03_19-44-51        183   \n",
       "155  B183_2020-03-06_04-53-23_2020-03-06_19-44-42        183   \n",
       "157  B183_2020-03-09_14-16-13_2020-03-09_19-34-17        183   \n",
       "\n",
       "            startTime_iso  drivenDistance busRoute  energyConsumption  \\\n",
       "154  2020-03-03T04:42:38Z       225047.90       83       1.544278e+09   \n",
       "155  2020-03-06T04:53:23Z       224512.30       83       1.631816e+09   \n",
       "157  2020-03-09T14:16:13Z        77824.36       83       5.406013e+08   \n",
       "\n",
       "     itcs_numberOfPassengers_mean  temperature_ambient_mean  \n",
       "154                      23.47531                  280.5450  \n",
       "155                      17.41578                  279.8850  \n",
       "157                      23.18182                  281.0489  "
      ]
     },
     "execution_count": 14,
     "metadata": {},
     "output_type": "execute_result"
    }
   ],
   "source": [
    "route_83=ztbus[ztbus['busRoute']=='83']\n",
    "route_83.head(3)"
   ]
  },
  {
   "cell_type": "code",
   "execution_count": 15,
   "id": "6d850252-3145-4bab-a22f-f276a35d4d0e",
   "metadata": {
    "tags": []
   },
   "outputs": [
    {
     "data": {
      "text/plain": [
       "(846, 8)"
      ]
     },
     "execution_count": 15,
     "metadata": {},
     "output_type": "execute_result"
    }
   ],
   "source": [
    "route_83.shape"
   ]
  },
  {
   "cell_type": "markdown",
   "id": "65b571da-2c73-4e1a-b2f2-e4e3da6316d8",
   "metadata": {
    "editable": true,
    "slideshow": {
     "slide_type": ""
    },
    "tags": []
   },
   "source": [
    "### 2. Extract all trips where `busRoute` is not a number"
   ]
  },
  {
   "cell_type": "markdown",
   "id": "d5e92411-c747-49b3-94c0-d6a7e4c41225",
   "metadata": {},
   "source": [
    "From the \"ztbus\" database, we verify which are the unique values in \"busRoute\".\n",
    "\n",
    "Then we create a variable containing the values that are not numbers.\n",
    "\n",
    "finally, we filter in the \"busRoute\" column of the dataframe where any value of the created variable is present."
   ]
  },
  {
   "cell_type": "code",
   "execution_count": 16,
   "id": "a7380801-173e-4ec3-9258-1d624edd8873",
   "metadata": {
    "tags": []
   },
   "outputs": [
    {
     "data": {
      "text/plain": [
       "array(['-', '31', '33', '72', '46', '32', '83', 'N4', 'N2', 'N1'],\n",
       "      dtype=object)"
      ]
     },
     "execution_count": 16,
     "metadata": {},
     "output_type": "execute_result"
    }
   ],
   "source": [
    "ztbus.busRoute.unique()"
   ]
  },
  {
   "cell_type": "code",
   "execution_count": 17,
   "id": "6034fa10-1b18-4b1a-b4d7-a534e5844f29",
   "metadata": {
    "tags": []
   },
   "outputs": [
    {
     "data": {
      "text/plain": [
       "['-', 'N4', 'N2', 'N1']"
      ]
     },
     "execution_count": 17,
     "metadata": {},
     "output_type": "execute_result"
    }
   ],
   "source": [
    "# The script uses the NumPy library to identify non-number values\n",
    "import numpy as np\n",
    "\n",
    "# We obtain the unique values of the column \"busRoute\"\n",
    "uniq_busR = ztbus['busRoute'].unique()\n",
    "\n",
    "# Create an empty list\n",
    "not_number = []\n",
    "\n",
    "for val in uniq_busR:\n",
    "    \n",
    "    #We use the \"np.isnan()\" function to check if a value is NaN.\n",
    "    if np.isnan(pd.to_numeric(val, errors='coerce')):\n",
    "        not_number.append(val)\n",
    "\n",
    "not_number"
   ]
  },
  {
   "cell_type": "code",
   "execution_count": 18,
   "id": "ab56d47d-c126-471d-b4a6-5f46309574a0",
   "metadata": {
    "tags": []
   },
   "outputs": [
    {
     "data": {
      "text/html": [
       "<div>\n",
       "<style scoped>\n",
       "    .dataframe tbody tr th:only-of-type {\n",
       "        vertical-align: middle;\n",
       "    }\n",
       "\n",
       "    .dataframe tbody tr th {\n",
       "        vertical-align: top;\n",
       "    }\n",
       "\n",
       "    .dataframe thead th {\n",
       "        text-align: right;\n",
       "    }\n",
       "</style>\n",
       "<table border=\"1\" class=\"dataframe\">\n",
       "  <thead>\n",
       "    <tr style=\"text-align: right;\">\n",
       "      <th></th>\n",
       "      <th>name</th>\n",
       "      <th>busNumber</th>\n",
       "      <th>startTime_iso</th>\n",
       "      <th>drivenDistance</th>\n",
       "      <th>busRoute</th>\n",
       "      <th>energyConsumption</th>\n",
       "      <th>itcs_numberOfPassengers_mean</th>\n",
       "      <th>temperature_ambient_mean</th>\n",
       "    </tr>\n",
       "  </thead>\n",
       "  <tbody>\n",
       "    <tr>\n",
       "      <th>0</th>\n",
       "      <td>B183_2019-04-30_03-18-56_2019-04-30_08-44-20</td>\n",
       "      <td>183</td>\n",
       "      <td>2019-04-30T03:18:56Z</td>\n",
       "      <td>77213.87</td>\n",
       "      <td>-</td>\n",
       "      <td>4.785852e+08</td>\n",
       "      <td>5.538860</td>\n",
       "      <td>282.3780</td>\n",
       "    </tr>\n",
       "    <tr>\n",
       "      <th>3</th>\n",
       "      <td>B183_2019-05-03_02-50-21_2019-05-03_05-53-20</td>\n",
       "      <td>183</td>\n",
       "      <td>2019-05-03T02:50:21Z</td>\n",
       "      <td>42565.48</td>\n",
       "      <td>-</td>\n",
       "      <td>2.819867e+08</td>\n",
       "      <td>1.685185</td>\n",
       "      <td>282.4129</td>\n",
       "    </tr>\n",
       "    <tr>\n",
       "      <th>9</th>\n",
       "      <td>B183_2019-05-10_03-16-11_2019-05-10_18-51-37</td>\n",
       "      <td>183</td>\n",
       "      <td>2019-05-10T03:16:11Z</td>\n",
       "      <td>210577.00</td>\n",
       "      <td>-</td>\n",
       "      <td>1.303391e+09</td>\n",
       "      <td>8.230483</td>\n",
       "      <td>287.5623</td>\n",
       "    </tr>\n",
       "    <tr>\n",
       "      <th>10</th>\n",
       "      <td>B183_2019-05-13_03-10-23_2019-05-13_23-16-13</td>\n",
       "      <td>183</td>\n",
       "      <td>2019-05-13T03:10:23Z</td>\n",
       "      <td>267033.80</td>\n",
       "      <td>-</td>\n",
       "      <td>1.647432e+09</td>\n",
       "      <td>7.891652</td>\n",
       "      <td>284.6764</td>\n",
       "    </tr>\n",
       "    <tr>\n",
       "      <th>19</th>\n",
       "      <td>B183_2019-05-24_02-52-47_2019-05-24_22-35-11</td>\n",
       "      <td>183</td>\n",
       "      <td>2019-05-24T02:52:47Z</td>\n",
       "      <td>263432.60</td>\n",
       "      <td>-</td>\n",
       "      <td>1.448057e+09</td>\n",
       "      <td>7.520249</td>\n",
       "      <td>293.1440</td>\n",
       "    </tr>\n",
       "  </tbody>\n",
       "</table>\n",
       "</div>"
      ],
      "text/plain": [
       "                                            name  busNumber  \\\n",
       "0   B183_2019-04-30_03-18-56_2019-04-30_08-44-20        183   \n",
       "3   B183_2019-05-03_02-50-21_2019-05-03_05-53-20        183   \n",
       "9   B183_2019-05-10_03-16-11_2019-05-10_18-51-37        183   \n",
       "10  B183_2019-05-13_03-10-23_2019-05-13_23-16-13        183   \n",
       "19  B183_2019-05-24_02-52-47_2019-05-24_22-35-11        183   \n",
       "\n",
       "           startTime_iso  drivenDistance busRoute  energyConsumption  \\\n",
       "0   2019-04-30T03:18:56Z        77213.87        -       4.785852e+08   \n",
       "3   2019-05-03T02:50:21Z        42565.48        -       2.819867e+08   \n",
       "9   2019-05-10T03:16:11Z       210577.00        -       1.303391e+09   \n",
       "10  2019-05-13T03:10:23Z       267033.80        -       1.647432e+09   \n",
       "19  2019-05-24T02:52:47Z       263432.60        -       1.448057e+09   \n",
       "\n",
       "    itcs_numberOfPassengers_mean  temperature_ambient_mean  \n",
       "0                       5.538860                  282.3780  \n",
       "3                       1.685185                  282.4129  \n",
       "9                       8.230483                  287.5623  \n",
       "10                      7.891652                  284.6764  \n",
       "19                      7.520249                  293.1440  "
      ]
     },
     "execution_count": 18,
     "metadata": {},
     "output_type": "execute_result"
    }
   ],
   "source": [
    "# We filter in the \"busRoute\" column\n",
    "ztbus[ztbus['busRoute'].isin(not_number)].head()"
   ]
  },
  {
   "cell_type": "code",
   "execution_count": 19,
   "id": "d197da59-fdca-48a8-b181-1fff0a204f18",
   "metadata": {
    "tags": []
   },
   "outputs": [
    {
     "data": {
      "text/plain": [
       "(84, 8)"
      ]
     },
     "execution_count": 19,
     "metadata": {},
     "output_type": "execute_result"
    }
   ],
   "source": [
    "ztbus[ztbus['busRoute'].isin(not_number)].shape"
   ]
  },
  {
   "cell_type": "markdown",
   "id": "f3d46848-9e88-4eae-96af-43263c16371e",
   "metadata": {
    "editable": true,
    "slideshow": {
     "slide_type": ""
    },
    "tags": []
   },
   "source": [
    "### 3. For each (busNumber, busRoute) pair, determine the number of trips"
   ]
  },
  {
   "cell_type": "markdown",
   "id": "a4ef20da-0501-4705-8a6b-86ab5f814b46",
   "metadata": {},
   "source": [
    "For the solution of the question, we group the columns \"busNumber\" and \"busRoute\" of the data frame.\n",
    "Then we add the function \"size()\" to count the number of occurrences in each group\n",
    "which we will name this column \"Number_Trips\"."
   ]
  },
  {
   "cell_type": "code",
   "execution_count": 20,
   "id": "b1de39e7-1138-4b0f-927c-96efcb850a27",
   "metadata": {
    "tags": []
   },
   "outputs": [
    {
     "data": {
      "text/html": [
       "<div>\n",
       "<style scoped>\n",
       "    .dataframe tbody tr th:only-of-type {\n",
       "        vertical-align: middle;\n",
       "    }\n",
       "\n",
       "    .dataframe tbody tr th {\n",
       "        vertical-align: top;\n",
       "    }\n",
       "\n",
       "    .dataframe thead th {\n",
       "        text-align: right;\n",
       "    }\n",
       "</style>\n",
       "<table border=\"1\" class=\"dataframe\">\n",
       "  <thead>\n",
       "    <tr style=\"text-align: right;\">\n",
       "      <th></th>\n",
       "      <th>busNumber</th>\n",
       "      <th>busRoute</th>\n",
       "      <th>Number_Trips</th>\n",
       "    </tr>\n",
       "  </thead>\n",
       "  <tbody>\n",
       "    <tr>\n",
       "      <th>0</th>\n",
       "      <td>183</td>\n",
       "      <td>-</td>\n",
       "      <td>11</td>\n",
       "    </tr>\n",
       "    <tr>\n",
       "      <th>1</th>\n",
       "      <td>183</td>\n",
       "      <td>31</td>\n",
       "      <td>12</td>\n",
       "    </tr>\n",
       "    <tr>\n",
       "      <th>2</th>\n",
       "      <td>183</td>\n",
       "      <td>32</td>\n",
       "      <td>12</td>\n",
       "    </tr>\n",
       "    <tr>\n",
       "      <th>3</th>\n",
       "      <td>183</td>\n",
       "      <td>33</td>\n",
       "      <td>130</td>\n",
       "    </tr>\n",
       "    <tr>\n",
       "      <th>4</th>\n",
       "      <td>183</td>\n",
       "      <td>46</td>\n",
       "      <td>104</td>\n",
       "    </tr>\n",
       "    <tr>\n",
       "      <th>5</th>\n",
       "      <td>183</td>\n",
       "      <td>72</td>\n",
       "      <td>114</td>\n",
       "    </tr>\n",
       "    <tr>\n",
       "      <th>6</th>\n",
       "      <td>183</td>\n",
       "      <td>83</td>\n",
       "      <td>441</td>\n",
       "    </tr>\n",
       "    <tr>\n",
       "      <th>7</th>\n",
       "      <td>183</td>\n",
       "      <td>N1</td>\n",
       "      <td>10</td>\n",
       "    </tr>\n",
       "    <tr>\n",
       "      <th>8</th>\n",
       "      <td>183</td>\n",
       "      <td>N2</td>\n",
       "      <td>19</td>\n",
       "    </tr>\n",
       "    <tr>\n",
       "      <th>9</th>\n",
       "      <td>183</td>\n",
       "      <td>N4</td>\n",
       "      <td>11</td>\n",
       "    </tr>\n",
       "    <tr>\n",
       "      <th>10</th>\n",
       "      <td>208</td>\n",
       "      <td>31</td>\n",
       "      <td>5</td>\n",
       "    </tr>\n",
       "    <tr>\n",
       "      <th>11</th>\n",
       "      <td>208</td>\n",
       "      <td>32</td>\n",
       "      <td>14</td>\n",
       "    </tr>\n",
       "    <tr>\n",
       "      <th>12</th>\n",
       "      <td>208</td>\n",
       "      <td>33</td>\n",
       "      <td>25</td>\n",
       "    </tr>\n",
       "    <tr>\n",
       "      <th>13</th>\n",
       "      <td>208</td>\n",
       "      <td>46</td>\n",
       "      <td>19</td>\n",
       "    </tr>\n",
       "    <tr>\n",
       "      <th>14</th>\n",
       "      <td>208</td>\n",
       "      <td>72</td>\n",
       "      <td>44</td>\n",
       "    </tr>\n",
       "    <tr>\n",
       "      <th>15</th>\n",
       "      <td>208</td>\n",
       "      <td>83</td>\n",
       "      <td>405</td>\n",
       "    </tr>\n",
       "    <tr>\n",
       "      <th>16</th>\n",
       "      <td>208</td>\n",
       "      <td>N1</td>\n",
       "      <td>6</td>\n",
       "    </tr>\n",
       "    <tr>\n",
       "      <th>17</th>\n",
       "      <td>208</td>\n",
       "      <td>N2</td>\n",
       "      <td>20</td>\n",
       "    </tr>\n",
       "    <tr>\n",
       "      <th>18</th>\n",
       "      <td>208</td>\n",
       "      <td>N4</td>\n",
       "      <td>7</td>\n",
       "    </tr>\n",
       "  </tbody>\n",
       "</table>\n",
       "</div>"
      ],
      "text/plain": [
       "    busNumber busRoute  Number_Trips\n",
       "0         183        -            11\n",
       "1         183       31            12\n",
       "2         183       32            12\n",
       "3         183       33           130\n",
       "4         183       46           104\n",
       "5         183       72           114\n",
       "6         183       83           441\n",
       "7         183       N1            10\n",
       "8         183       N2            19\n",
       "9         183       N4            11\n",
       "10        208       31             5\n",
       "11        208       32            14\n",
       "12        208       33            25\n",
       "13        208       46            19\n",
       "14        208       72            44\n",
       "15        208       83           405\n",
       "16        208       N1             6\n",
       "17        208       N2            20\n",
       "18        208       N4             7"
      ]
     },
     "execution_count": 20,
     "metadata": {},
     "output_type": "execute_result"
    }
   ],
   "source": [
    "ztbus.groupby(['busNumber','busRoute']).size().reset_index(name='Number_Trips')"
   ]
  },
  {
   "cell_type": "markdown",
   "id": "ab2e0ff1-b637-44bd-9cd2-0fd5167892f4",
   "metadata": {
    "editable": true,
    "slideshow": {
     "slide_type": ""
    },
    "tags": []
   },
   "source": [
    "### 4. For each trip, compute the ratio between the energy consumption and the average number of passengers"
   ]
  },
  {
   "cell_type": "markdown",
   "id": "379f2d33-cd16-4328-a13b-9afb2db0d07a",
   "metadata": {},
   "source": [
    "For the \"ztbus\" database, we create a column called \"Ratio_Energy-Passengers\" \n",
    "which will be the ratio that is the division of \n",
    "the \"energyConsumption\" and \"itcs_numberOfPassengers_mean\""
   ]
  },
  {
   "cell_type": "code",
   "execution_count": 21,
   "id": "dffb36b6-1cd2-4436-9dda-2320f4585c9c",
   "metadata": {
    "tags": []
   },
   "outputs": [],
   "source": [
    "ztbus['Ratio_Energy-Passengers']=ztbus['energyConsumption']/ztbus['itcs_numberOfPassengers_mean']"
   ]
  },
  {
   "cell_type": "code",
   "execution_count": 22,
   "id": "076909bb-c037-42b2-898a-3a2c2f207319",
   "metadata": {
    "tags": []
   },
   "outputs": [
    {
     "data": {
      "text/html": [
       "<div>\n",
       "<style scoped>\n",
       "    .dataframe tbody tr th:only-of-type {\n",
       "        vertical-align: middle;\n",
       "    }\n",
       "\n",
       "    .dataframe tbody tr th {\n",
       "        vertical-align: top;\n",
       "    }\n",
       "\n",
       "    .dataframe thead th {\n",
       "        text-align: right;\n",
       "    }\n",
       "</style>\n",
       "<table border=\"1\" class=\"dataframe\">\n",
       "  <thead>\n",
       "    <tr style=\"text-align: right;\">\n",
       "      <th></th>\n",
       "      <th>name</th>\n",
       "      <th>busNumber</th>\n",
       "      <th>startTime_iso</th>\n",
       "      <th>drivenDistance</th>\n",
       "      <th>busRoute</th>\n",
       "      <th>energyConsumption</th>\n",
       "      <th>itcs_numberOfPassengers_mean</th>\n",
       "      <th>temperature_ambient_mean</th>\n",
       "      <th>Ratio_Energy-Passengers</th>\n",
       "    </tr>\n",
       "  </thead>\n",
       "  <tbody>\n",
       "    <tr>\n",
       "      <th>0</th>\n",
       "      <td>B183_2019-04-30_03-18-56_2019-04-30_08-44-20</td>\n",
       "      <td>183</td>\n",
       "      <td>2019-04-30T03:18:56Z</td>\n",
       "      <td>77213.87</td>\n",
       "      <td>-</td>\n",
       "      <td>4.785852e+08</td>\n",
       "      <td>5.53886</td>\n",
       "      <td>282.3780</td>\n",
       "      <td>8.640500e+07</td>\n",
       "    </tr>\n",
       "    <tr>\n",
       "      <th>1</th>\n",
       "      <td>B183_2019-04-30_13-22-07_2019-04-30_17-54-02</td>\n",
       "      <td>183</td>\n",
       "      <td>2019-04-30T13:22:07Z</td>\n",
       "      <td>59029.60</td>\n",
       "      <td>31</td>\n",
       "      <td>4.022585e+08</td>\n",
       "      <td>33.11458</td>\n",
       "      <td>287.5443</td>\n",
       "      <td>1.214747e+07</td>\n",
       "    </tr>\n",
       "    <tr>\n",
       "      <th>2</th>\n",
       "      <td>B183_2019-05-01_05-58-51_2019-05-01_22-32-30</td>\n",
       "      <td>183</td>\n",
       "      <td>2019-05-01T05:58:51Z</td>\n",
       "      <td>240900.40</td>\n",
       "      <td>33</td>\n",
       "      <td>1.445733e+09</td>\n",
       "      <td>19.68914</td>\n",
       "      <td>288.7490</td>\n",
       "      <td>7.342794e+07</td>\n",
       "    </tr>\n",
       "  </tbody>\n",
       "</table>\n",
       "</div>"
      ],
      "text/plain": [
       "                                           name  busNumber  \\\n",
       "0  B183_2019-04-30_03-18-56_2019-04-30_08-44-20        183   \n",
       "1  B183_2019-04-30_13-22-07_2019-04-30_17-54-02        183   \n",
       "2  B183_2019-05-01_05-58-51_2019-05-01_22-32-30        183   \n",
       "\n",
       "          startTime_iso  drivenDistance busRoute  energyConsumption  \\\n",
       "0  2019-04-30T03:18:56Z        77213.87        -       4.785852e+08   \n",
       "1  2019-04-30T13:22:07Z        59029.60       31       4.022585e+08   \n",
       "2  2019-05-01T05:58:51Z       240900.40       33       1.445733e+09   \n",
       "\n",
       "   itcs_numberOfPassengers_mean  temperature_ambient_mean  \\\n",
       "0                       5.53886                  282.3780   \n",
       "1                      33.11458                  287.5443   \n",
       "2                      19.68914                  288.7490   \n",
       "\n",
       "   Ratio_Energy-Passengers  \n",
       "0             8.640500e+07  \n",
       "1             1.214747e+07  \n",
       "2             7.342794e+07  "
      ]
     },
     "execution_count": 22,
     "metadata": {},
     "output_type": "execute_result"
    }
   ],
   "source": [
    "ztbus.head(3)"
   ]
  },
  {
   "cell_type": "markdown",
   "id": "bd288f44-e2f2-4420-b662-da98a666a8a9",
   "metadata": {
    "editable": true,
    "slideshow": {
     "slide_type": ""
    },
    "tags": []
   },
   "source": [
    "### 5. For each station (`itcs_stopName`), determine the average number of passengers."
   ]
  },
  {
   "cell_type": "markdown",
   "id": "f5b304b5-eac8-494e-a9c5-877565089369",
   "metadata": {},
   "source": [
    "* For this query we will use the dataframe \"df_bus\".\n",
    "* We will group with the unique values of \"itcs_stopName\".\n",
    "* To this group we will add the average column of \"itcs_numberOfPassengers\", which will be the average number of passengers per unique value of \"itcs_stopName\".\n",
    "* We will name this last calculated column \"averagePassengers\"."
   ]
  },
  {
   "cell_type": "code",
   "execution_count": 23,
   "id": "6731dbce-c206-41be-a187-94ea86112d9e",
   "metadata": {
    "tags": []
   },
   "outputs": [
    {
     "data": {
      "text/html": [
       "<div>\n",
       "<style scoped>\n",
       "    .dataframe tbody tr th:only-of-type {\n",
       "        vertical-align: middle;\n",
       "    }\n",
       "\n",
       "    .dataframe tbody tr th {\n",
       "        vertical-align: top;\n",
       "    }\n",
       "\n",
       "    .dataframe thead th {\n",
       "        text-align: right;\n",
       "    }\n",
       "</style>\n",
       "<table border=\"1\" class=\"dataframe\">\n",
       "  <thead>\n",
       "    <tr style=\"text-align: right;\">\n",
       "      <th></th>\n",
       "      <th>itcs_stopName</th>\n",
       "      <th>averagePassengers</th>\n",
       "    </tr>\n",
       "  </thead>\n",
       "  <tbody>\n",
       "    <tr>\n",
       "      <th>0</th>\n",
       "      <td>Zürich, Albisrank</td>\n",
       "      <td>16.20</td>\n",
       "    </tr>\n",
       "    <tr>\n",
       "      <th>1</th>\n",
       "      <td>Zürich, Albisriederplatz</td>\n",
       "      <td>25.45</td>\n",
       "    </tr>\n",
       "    <tr>\n",
       "      <th>2</th>\n",
       "      <td>Zürich, Altes Krematorium</td>\n",
       "      <td>21.98</td>\n",
       "    </tr>\n",
       "    <tr>\n",
       "      <th>3</th>\n",
       "      <td>Zürich, Bahnhof Affoltern</td>\n",
       "      <td>2.85</td>\n",
       "    </tr>\n",
       "    <tr>\n",
       "      <th>4</th>\n",
       "      <td>Zürich, Bahnhof Altstetten</td>\n",
       "      <td>7.82</td>\n",
       "    </tr>\n",
       "    <tr>\n",
       "      <th>...</th>\n",
       "      <td>...</td>\n",
       "      <td>...</td>\n",
       "    </tr>\n",
       "    <tr>\n",
       "      <th>144</th>\n",
       "      <td>Zürich, Zentrum Witikon</td>\n",
       "      <td>17.26</td>\n",
       "    </tr>\n",
       "    <tr>\n",
       "      <th>145</th>\n",
       "      <td>Zürich, Zweiackerstrasse</td>\n",
       "      <td>7.50</td>\n",
       "    </tr>\n",
       "    <tr>\n",
       "      <th>146</th>\n",
       "      <td>Zürich, Zwielplatz</td>\n",
       "      <td>2.05</td>\n",
       "    </tr>\n",
       "    <tr>\n",
       "      <th>147</th>\n",
       "      <td>Zürich, Zwinglihaus</td>\n",
       "      <td>23.20</td>\n",
       "    </tr>\n",
       "    <tr>\n",
       "      <th>148</th>\n",
       "      <td>Zürich,Kalkbreite/Bhf.Wiedikon</td>\n",
       "      <td>23.16</td>\n",
       "    </tr>\n",
       "  </tbody>\n",
       "</table>\n",
       "<p>149 rows × 2 columns</p>\n",
       "</div>"
      ],
      "text/plain": [
       "                      itcs_stopName  averagePassengers\n",
       "0                 Zürich, Albisrank              16.20\n",
       "1          Zürich, Albisriederplatz              25.45\n",
       "2         Zürich, Altes Krematorium              21.98\n",
       "3         Zürich, Bahnhof Affoltern               2.85\n",
       "4        Zürich, Bahnhof Altstetten               7.82\n",
       "..                              ...                ...\n",
       "144         Zürich, Zentrum Witikon              17.26\n",
       "145        Zürich, Zweiackerstrasse               7.50\n",
       "146              Zürich, Zwielplatz               2.05\n",
       "147             Zürich, Zwinglihaus              23.20\n",
       "148  Zürich,Kalkbreite/Bhf.Wiedikon              23.16\n",
       "\n",
       "[149 rows x 2 columns]"
      ]
     },
     "execution_count": 23,
     "metadata": {},
     "output_type": "execute_result"
    }
   ],
   "source": [
    "df_bus_5 = df_bus[df_bus['itcs_stopName'] != \"-\"]\n",
    "\n",
    "df_bus_5.groupby('itcs_stopName')['itcs_numberOfPassengers'].mean().reset_index(name='averagePassengers').round(2)"
   ]
  },
  {
   "cell_type": "markdown",
   "id": "c672dc63-15b5-4d51-b043-efe37e438a7d",
   "metadata": {},
   "source": [
    "How it would look like if we order it from highest to lowest"
   ]
  },
  {
   "cell_type": "code",
   "execution_count": 24,
   "id": "bbc9353a-a2d9-4a16-9be1-bdc11bf012e9",
   "metadata": {
    "tags": []
   },
   "outputs": [
    {
     "data": {
      "text/html": [
       "<div>\n",
       "<style scoped>\n",
       "    .dataframe tbody tr th:only-of-type {\n",
       "        vertical-align: middle;\n",
       "    }\n",
       "\n",
       "    .dataframe tbody tr th {\n",
       "        vertical-align: top;\n",
       "    }\n",
       "\n",
       "    .dataframe thead th {\n",
       "        text-align: right;\n",
       "    }\n",
       "</style>\n",
       "<table border=\"1\" class=\"dataframe\">\n",
       "  <thead>\n",
       "    <tr style=\"text-align: right;\">\n",
       "      <th></th>\n",
       "      <th>itcs_stopName</th>\n",
       "      <th>averagePassengers</th>\n",
       "    </tr>\n",
       "  </thead>\n",
       "  <tbody>\n",
       "    <tr>\n",
       "      <th>102</th>\n",
       "      <td>Zürich, Röntgenstrasse</td>\n",
       "      <td>32.55</td>\n",
       "    </tr>\n",
       "    <tr>\n",
       "      <th>77</th>\n",
       "      <td>Zürich, Limmatplatz</td>\n",
       "      <td>30.38</td>\n",
       "    </tr>\n",
       "    <tr>\n",
       "      <th>40</th>\n",
       "      <td>Zürich, Hardplatz</td>\n",
       "      <td>29.77</td>\n",
       "    </tr>\n",
       "    <tr>\n",
       "      <th>87</th>\n",
       "      <td>Zürich, Militär-/Langstrasse</td>\n",
       "      <td>28.00</td>\n",
       "    </tr>\n",
       "    <tr>\n",
       "      <th>60</th>\n",
       "      <td>Zürich, Kanonengasse</td>\n",
       "      <td>27.18</td>\n",
       "    </tr>\n",
       "    <tr>\n",
       "      <th>...</th>\n",
       "      <td>...</td>\n",
       "      <td>...</td>\n",
       "    </tr>\n",
       "    <tr>\n",
       "      <th>139</th>\n",
       "      <td>Zürich, Wartau</td>\n",
       "      <td>1.41</td>\n",
       "    </tr>\n",
       "    <tr>\n",
       "      <th>107</th>\n",
       "      <td>Zürich, Salzweg</td>\n",
       "      <td>1.12</td>\n",
       "    </tr>\n",
       "    <tr>\n",
       "      <th>115</th>\n",
       "      <td>Zürich, Schwandenholz</td>\n",
       "      <td>1.06</td>\n",
       "    </tr>\n",
       "    <tr>\n",
       "      <th>138</th>\n",
       "      <td>Zürich, Waidhof</td>\n",
       "      <td>0.46</td>\n",
       "    </tr>\n",
       "    <tr>\n",
       "      <th>24</th>\n",
       "      <td>Zürich, Dunkelhölzli</td>\n",
       "      <td>0.37</td>\n",
       "    </tr>\n",
       "  </tbody>\n",
       "</table>\n",
       "<p>149 rows × 2 columns</p>\n",
       "</div>"
      ],
      "text/plain": [
       "                    itcs_stopName  averagePassengers\n",
       "102        Zürich, Röntgenstrasse              32.55\n",
       "77            Zürich, Limmatplatz              30.38\n",
       "40              Zürich, Hardplatz              29.77\n",
       "87   Zürich, Militär-/Langstrasse              28.00\n",
       "60           Zürich, Kanonengasse              27.18\n",
       "..                            ...                ...\n",
       "139                Zürich, Wartau               1.41\n",
       "107               Zürich, Salzweg               1.12\n",
       "115         Zürich, Schwandenholz               1.06\n",
       "138               Zürich, Waidhof               0.46\n",
       "24           Zürich, Dunkelhölzli               0.37\n",
       "\n",
       "[149 rows x 2 columns]"
      ]
     },
     "execution_count": 24,
     "metadata": {},
     "output_type": "execute_result"
    }
   ],
   "source": [
    "df_bus_5.groupby('itcs_stopName')['itcs_numberOfPassengers'].mean().reset_index(name='averagePassengers').round(2).sort_values(by='averagePassengers', ascending=False)"
   ]
  },
  {
   "cell_type": "markdown",
   "id": "f94c4aed-9490-440d-af7e-744ed71e6819",
   "metadata": {
    "editable": true,
    "slideshow": {
     "slide_type": ""
    },
    "tags": []
   },
   "source": [
    "### 6. For each station, determine the buses that have stopped there at least once."
   ]
  },
  {
   "cell_type": "markdown",
   "id": "eb56098a-522d-4034-9d76-3e3e7a398192",
   "metadata": {},
   "source": [
    "* For this question, we will use the database \"df_bus\".\n",
    "* We will use the column \"status_haltBrakeIsActive\": Status that if the parking brake is activated.\n",
    "* We will filter where \"status_haltBrakeIsActive\" is active (=1), that means that the bus has stopped.\n",
    "* Then we make the filter in case the \"itcs_stopName\" is different than \"-\" \n",
    "* We group according to \"itcs_stopName\" and then count the number of times they have stopped using the count()   function (we use as reference the column \"name\")\n",
    "* We change the name of the new column to \"buses_stopped\".\n",
    "* Finally, we filter in this new column the values which are >0"
   ]
  },
  {
   "cell_type": "code",
   "execution_count": 25,
   "id": "73ced664-4aff-477f-bd1b-acc597008b83",
   "metadata": {
    "tags": []
   },
   "outputs": [
    {
     "data": {
      "text/html": [
       "<div>\n",
       "<style scoped>\n",
       "    .dataframe tbody tr th:only-of-type {\n",
       "        vertical-align: middle;\n",
       "    }\n",
       "\n",
       "    .dataframe tbody tr th {\n",
       "        vertical-align: top;\n",
       "    }\n",
       "\n",
       "    .dataframe thead th {\n",
       "        text-align: right;\n",
       "    }\n",
       "</style>\n",
       "<table border=\"1\" class=\"dataframe\">\n",
       "  <thead>\n",
       "    <tr style=\"text-align: right;\">\n",
       "      <th></th>\n",
       "      <th>itcs_stopName</th>\n",
       "      <th>buses_stopped</th>\n",
       "    </tr>\n",
       "  </thead>\n",
       "  <tbody>\n",
       "    <tr>\n",
       "      <th>0</th>\n",
       "      <td>Zürich, Albisrank</td>\n",
       "      <td>6202</td>\n",
       "    </tr>\n",
       "    <tr>\n",
       "      <th>1</th>\n",
       "      <td>Zürich, Albisriederplatz</td>\n",
       "      <td>7173</td>\n",
       "    </tr>\n",
       "    <tr>\n",
       "      <th>2</th>\n",
       "      <td>Zürich, Altes Krematorium</td>\n",
       "      <td>7908</td>\n",
       "    </tr>\n",
       "    <tr>\n",
       "      <th>3</th>\n",
       "      <td>Zürich, Bahnhof Affoltern</td>\n",
       "      <td>43</td>\n",
       "    </tr>\n",
       "    <tr>\n",
       "      <th>4</th>\n",
       "      <td>Zürich, Bahnhof Altstetten</td>\n",
       "      <td>3049</td>\n",
       "    </tr>\n",
       "    <tr>\n",
       "      <th>...</th>\n",
       "      <td>...</td>\n",
       "      <td>...</td>\n",
       "    </tr>\n",
       "    <tr>\n",
       "      <th>143</th>\n",
       "      <td>Zürich, Zentrum Witikon</td>\n",
       "      <td>127</td>\n",
       "    </tr>\n",
       "    <tr>\n",
       "      <th>144</th>\n",
       "      <td>Zürich, Zweiackerstrasse</td>\n",
       "      <td>102</td>\n",
       "    </tr>\n",
       "    <tr>\n",
       "      <th>145</th>\n",
       "      <td>Zürich, Zwielplatz</td>\n",
       "      <td>52</td>\n",
       "    </tr>\n",
       "    <tr>\n",
       "      <th>146</th>\n",
       "      <td>Zürich, Zwinglihaus</td>\n",
       "      <td>1691</td>\n",
       "    </tr>\n",
       "    <tr>\n",
       "      <th>147</th>\n",
       "      <td>Zürich,Kalkbreite/Bhf.Wiedikon</td>\n",
       "      <td>319</td>\n",
       "    </tr>\n",
       "  </tbody>\n",
       "</table>\n",
       "<p>148 rows × 2 columns</p>\n",
       "</div>"
      ],
      "text/plain": [
       "                      itcs_stopName  buses_stopped\n",
       "0                 Zürich, Albisrank           6202\n",
       "1          Zürich, Albisriederplatz           7173\n",
       "2         Zürich, Altes Krematorium           7908\n",
       "3         Zürich, Bahnhof Affoltern             43\n",
       "4        Zürich, Bahnhof Altstetten           3049\n",
       "..                              ...            ...\n",
       "143         Zürich, Zentrum Witikon            127\n",
       "144        Zürich, Zweiackerstrasse            102\n",
       "145              Zürich, Zwielplatz             52\n",
       "146             Zürich, Zwinglihaus           1691\n",
       "147  Zürich,Kalkbreite/Bhf.Wiedikon            319\n",
       "\n",
       "[148 rows x 2 columns]"
      ]
     },
     "execution_count": 25,
     "metadata": {},
     "output_type": "execute_result"
    }
   ],
   "source": [
    "df_bus_6=df_bus[['name','itcs_stopName','status_haltBrakeIsActive']].copy()\n",
    "# Filters rows where the parking brake is active (status_haltBrakeIsActive==1)\n",
    "bus_stop = df_bus_6[df_bus_6['status_haltBrakeIsActive'] == 1]\n",
    "#Filters rows where the \"itcs_stopName\" is not \"-\"\n",
    "bus_stop = bus_stop[bus_stop['itcs_stopName'] != '-']\n",
    "\n",
    "# Group by column 'itcs_stopName' and count the number of buses stopped at each stop\n",
    "bus_stop_counts = bus_stop.groupby('itcs_stopName')['name'].count().reset_index(name='buses_stopped')\n",
    "\n",
    "# Filter the stops where at least one bus has stopped (buses_detenidos > 0)\n",
    "bus_stop_more_0 = bus_stop_counts[bus_stop_counts['buses_stopped'] > 0]\n",
    "\n",
    "bus_stop_more_0"
   ]
  },
  {
   "cell_type": "markdown",
   "id": "f3b87491-ac56-43ec-afff-9867c7e72b1d",
   "metadata": {
    "editable": true,
    "slideshow": {
     "slide_type": ""
    },
    "tags": []
   },
   "source": [
    "### 7. For each station, determine the buses that have stopped there at least ten times."
   ]
  },
  {
   "cell_type": "markdown",
   "id": "ef807b2c-ed2a-40bb-8cf9-78c1a94cb73c",
   "metadata": {},
   "source": [
    "* From the previous question we will only change the conditional to be greater than 9"
   ]
  },
  {
   "cell_type": "code",
   "execution_count": 26,
   "id": "2074b7a7-ef0b-4600-90bd-65e0e400c4b2",
   "metadata": {
    "tags": []
   },
   "outputs": [
    {
     "data": {
      "text/html": [
       "<div>\n",
       "<style scoped>\n",
       "    .dataframe tbody tr th:only-of-type {\n",
       "        vertical-align: middle;\n",
       "    }\n",
       "\n",
       "    .dataframe tbody tr th {\n",
       "        vertical-align: top;\n",
       "    }\n",
       "\n",
       "    .dataframe thead th {\n",
       "        text-align: right;\n",
       "    }\n",
       "</style>\n",
       "<table border=\"1\" class=\"dataframe\">\n",
       "  <thead>\n",
       "    <tr style=\"text-align: right;\">\n",
       "      <th></th>\n",
       "      <th>itcs_stopName</th>\n",
       "      <th>buses_stopped</th>\n",
       "    </tr>\n",
       "  </thead>\n",
       "  <tbody>\n",
       "    <tr>\n",
       "      <th>0</th>\n",
       "      <td>Zürich, Albisrank</td>\n",
       "      <td>6202</td>\n",
       "    </tr>\n",
       "    <tr>\n",
       "      <th>1</th>\n",
       "      <td>Zürich, Albisriederplatz</td>\n",
       "      <td>7173</td>\n",
       "    </tr>\n",
       "    <tr>\n",
       "      <th>2</th>\n",
       "      <td>Zürich, Altes Krematorium</td>\n",
       "      <td>7908</td>\n",
       "    </tr>\n",
       "    <tr>\n",
       "      <th>3</th>\n",
       "      <td>Zürich, Bahnhof Affoltern</td>\n",
       "      <td>43</td>\n",
       "    </tr>\n",
       "    <tr>\n",
       "      <th>4</th>\n",
       "      <td>Zürich, Bahnhof Altstetten</td>\n",
       "      <td>3049</td>\n",
       "    </tr>\n",
       "    <tr>\n",
       "      <th>...</th>\n",
       "      <td>...</td>\n",
       "      <td>...</td>\n",
       "    </tr>\n",
       "    <tr>\n",
       "      <th>143</th>\n",
       "      <td>Zürich, Zentrum Witikon</td>\n",
       "      <td>127</td>\n",
       "    </tr>\n",
       "    <tr>\n",
       "      <th>144</th>\n",
       "      <td>Zürich, Zweiackerstrasse</td>\n",
       "      <td>102</td>\n",
       "    </tr>\n",
       "    <tr>\n",
       "      <th>145</th>\n",
       "      <td>Zürich, Zwielplatz</td>\n",
       "      <td>52</td>\n",
       "    </tr>\n",
       "    <tr>\n",
       "      <th>146</th>\n",
       "      <td>Zürich, Zwinglihaus</td>\n",
       "      <td>1691</td>\n",
       "    </tr>\n",
       "    <tr>\n",
       "      <th>147</th>\n",
       "      <td>Zürich,Kalkbreite/Bhf.Wiedikon</td>\n",
       "      <td>319</td>\n",
       "    </tr>\n",
       "  </tbody>\n",
       "</table>\n",
       "<p>148 rows × 2 columns</p>\n",
       "</div>"
      ],
      "text/plain": [
       "                      itcs_stopName  buses_stopped\n",
       "0                 Zürich, Albisrank           6202\n",
       "1          Zürich, Albisriederplatz           7173\n",
       "2         Zürich, Altes Krematorium           7908\n",
       "3         Zürich, Bahnhof Affoltern             43\n",
       "4        Zürich, Bahnhof Altstetten           3049\n",
       "..                              ...            ...\n",
       "143         Zürich, Zentrum Witikon            127\n",
       "144        Zürich, Zweiackerstrasse            102\n",
       "145              Zürich, Zwielplatz             52\n",
       "146             Zürich, Zwinglihaus           1691\n",
       "147  Zürich,Kalkbreite/Bhf.Wiedikon            319\n",
       "\n",
       "[148 rows x 2 columns]"
      ]
     },
     "execution_count": 26,
     "metadata": {},
     "output_type": "execute_result"
    }
   ],
   "source": [
    "# Filters the stops where at least one bus has stopped (> 9)\n",
    "bus_stop_more_10 = bus_stop_counts[bus_stop_counts['buses_stopped'] > 9]\n",
    "\n",
    "bus_stop_more_10"
   ]
  },
  {
   "cell_type": "markdown",
   "id": "db828c77-9432-4533-9695-e45ec86dc885",
   "metadata": {
    "editable": true,
    "slideshow": {
     "slide_type": ""
    },
    "tags": []
   },
   "source": [
    "### 9. For each (route, bus) pair, compute the ratio between the overall energy consumption and the overall driven distance. "
   ]
  },
  {
   "cell_type": "markdown",
   "id": "41c6d783-8501-45ff-a3fd-9937d7771447",
   "metadata": {},
   "source": [
    "* For the \"ztbus\" database, we make a grouping by the \"busRoute\" and \"name\" columns.\n",
    "* To this grouping we will calculate the sum function for 2 columns: \"energy Consumption\" and \"drivenDistance\".\n",
    "* The result is stored in a variable\n",
    "* In this variable, we create a column called \"Ratio_Energy-Distance\" which will be the division of \"energyConsumption\" and \"drivenDistance\"."
   ]
  },
  {
   "cell_type": "code",
   "execution_count": 27,
   "id": "c6e3137d-d872-4224-84ee-5f02c9bce150",
   "metadata": {
    "tags": []
   },
   "outputs": [
    {
     "data": {
      "text/html": [
       "<div>\n",
       "<style scoped>\n",
       "    .dataframe tbody tr th:only-of-type {\n",
       "        vertical-align: middle;\n",
       "    }\n",
       "\n",
       "    .dataframe tbody tr th {\n",
       "        vertical-align: top;\n",
       "    }\n",
       "\n",
       "    .dataframe thead th {\n",
       "        text-align: right;\n",
       "    }\n",
       "</style>\n",
       "<table border=\"1\" class=\"dataframe\">\n",
       "  <thead>\n",
       "    <tr style=\"text-align: right;\">\n",
       "      <th></th>\n",
       "      <th>busRoute</th>\n",
       "      <th>name</th>\n",
       "      <th>energyConsumption</th>\n",
       "      <th>drivenDistance</th>\n",
       "      <th>Ratio_Energy_Distance</th>\n",
       "    </tr>\n",
       "  </thead>\n",
       "  <tbody>\n",
       "    <tr>\n",
       "      <th>0</th>\n",
       "      <td>-</td>\n",
       "      <td>B183_2019-04-30_03-18-56_2019-04-30_08-44-20</td>\n",
       "      <td>4.785852e+08</td>\n",
       "      <td>77213.87</td>\n",
       "      <td>6198.176571</td>\n",
       "    </tr>\n",
       "    <tr>\n",
       "      <th>1</th>\n",
       "      <td>-</td>\n",
       "      <td>B183_2019-05-03_02-50-21_2019-05-03_05-53-20</td>\n",
       "      <td>2.819867e+08</td>\n",
       "      <td>42565.48</td>\n",
       "      <td>6624.774348</td>\n",
       "    </tr>\n",
       "    <tr>\n",
       "      <th>2</th>\n",
       "      <td>-</td>\n",
       "      <td>B183_2019-05-10_03-16-11_2019-05-10_18-51-37</td>\n",
       "      <td>1.303391e+09</td>\n",
       "      <td>210577.00</td>\n",
       "      <td>6189.617100</td>\n",
       "    </tr>\n",
       "    <tr>\n",
       "      <th>3</th>\n",
       "      <td>-</td>\n",
       "      <td>B183_2019-05-13_03-10-23_2019-05-13_23-16-13</td>\n",
       "      <td>1.647432e+09</td>\n",
       "      <td>267033.80</td>\n",
       "      <td>6169.376311</td>\n",
       "    </tr>\n",
       "    <tr>\n",
       "      <th>4</th>\n",
       "      <td>-</td>\n",
       "      <td>B183_2019-05-24_02-52-47_2019-05-24_22-35-11</td>\n",
       "      <td>1.448057e+09</td>\n",
       "      <td>263432.60</td>\n",
       "      <td>5496.878518</td>\n",
       "    </tr>\n",
       "    <tr>\n",
       "      <th>...</th>\n",
       "      <td>...</td>\n",
       "      <td>...</td>\n",
       "      <td>...</td>\n",
       "      <td>...</td>\n",
       "      <td>...</td>\n",
       "    </tr>\n",
       "    <tr>\n",
       "      <th>1404</th>\n",
       "      <td>N4</td>\n",
       "      <td>B208_2022-01-21_23-52-47_2022-01-22_03-39-46</td>\n",
       "      <td>4.808329e+08</td>\n",
       "      <td>75349.67</td>\n",
       "      <td>6381.353760</td>\n",
       "    </tr>\n",
       "    <tr>\n",
       "      <th>1405</th>\n",
       "      <td>N4</td>\n",
       "      <td>B208_2022-04-01_22-29-37_2022-04-02_02-35-00</td>\n",
       "      <td>5.548334e+08</td>\n",
       "      <td>78118.89</td>\n",
       "      <td>7102.422986</td>\n",
       "    </tr>\n",
       "    <tr>\n",
       "      <th>1406</th>\n",
       "      <td>N4</td>\n",
       "      <td>B208_2022-04-23_22-40-20_2022-04-24_02-36-05</td>\n",
       "      <td>4.558138e+08</td>\n",
       "      <td>76776.52</td>\n",
       "      <td>5936.890601</td>\n",
       "    </tr>\n",
       "    <tr>\n",
       "      <th>1407</th>\n",
       "      <td>N4</td>\n",
       "      <td>B208_2022-06-17_22-38-03_2022-06-18_02-37-46</td>\n",
       "      <td>3.715985e+08</td>\n",
       "      <td>78130.69</td>\n",
       "      <td>4756.114403</td>\n",
       "    </tr>\n",
       "    <tr>\n",
       "      <th>1408</th>\n",
       "      <td>N4</td>\n",
       "      <td>B208_2022-10-15_22-48-49_2022-10-16_02-46-32</td>\n",
       "      <td>3.656908e+08</td>\n",
       "      <td>76038.86</td>\n",
       "      <td>4809.262001</td>\n",
       "    </tr>\n",
       "  </tbody>\n",
       "</table>\n",
       "<p>1409 rows × 5 columns</p>\n",
       "</div>"
      ],
      "text/plain": [
       "     busRoute                                          name  \\\n",
       "0           -  B183_2019-04-30_03-18-56_2019-04-30_08-44-20   \n",
       "1           -  B183_2019-05-03_02-50-21_2019-05-03_05-53-20   \n",
       "2           -  B183_2019-05-10_03-16-11_2019-05-10_18-51-37   \n",
       "3           -  B183_2019-05-13_03-10-23_2019-05-13_23-16-13   \n",
       "4           -  B183_2019-05-24_02-52-47_2019-05-24_22-35-11   \n",
       "...       ...                                           ...   \n",
       "1404       N4  B208_2022-01-21_23-52-47_2022-01-22_03-39-46   \n",
       "1405       N4  B208_2022-04-01_22-29-37_2022-04-02_02-35-00   \n",
       "1406       N4  B208_2022-04-23_22-40-20_2022-04-24_02-36-05   \n",
       "1407       N4  B208_2022-06-17_22-38-03_2022-06-18_02-37-46   \n",
       "1408       N4  B208_2022-10-15_22-48-49_2022-10-16_02-46-32   \n",
       "\n",
       "      energyConsumption  drivenDistance  Ratio_Energy_Distance  \n",
       "0          4.785852e+08        77213.87            6198.176571  \n",
       "1          2.819867e+08        42565.48            6624.774348  \n",
       "2          1.303391e+09       210577.00            6189.617100  \n",
       "3          1.647432e+09       267033.80            6169.376311  \n",
       "4          1.448057e+09       263432.60            5496.878518  \n",
       "...                 ...             ...                    ...  \n",
       "1404       4.808329e+08        75349.67            6381.353760  \n",
       "1405       5.548334e+08        78118.89            7102.422986  \n",
       "1406       4.558138e+08        76776.52            5936.890601  \n",
       "1407       3.715985e+08        78130.69            4756.114403  \n",
       "1408       3.656908e+08        76038.86            4809.262001  \n",
       "\n",
       "[1409 rows x 5 columns]"
      ]
     },
     "execution_count": 27,
     "metadata": {},
     "output_type": "execute_result"
    }
   ],
   "source": [
    "ZTBus_Route_Bus=ztbus.groupby(['busRoute','name'])[['energyConsumption','drivenDistance']].sum().reset_index()\n",
    "ZTBus_Route_Bus['Ratio_Energy_Distance']=ZTBus_Route_Bus['energyConsumption']/ZTBus_Route_Bus['drivenDistance']\n",
    "ZTBus_Route_Bus"
   ]
  },
  {
   "cell_type": "markdown",
   "id": "21d7b488-59e1-40e8-901c-411d08c592b9",
   "metadata": {
    "editable": true,
    "slideshow": {
     "slide_type": ""
    },
    "tags": []
   },
   "source": [
    "### 10. Starting from the results of the previous point, for each route compute the buses with max and min energy ratio, and save the difference between these ratios in a dataframe."
   ]
  },
  {
   "cell_type": "markdown",
   "id": "31e45ae8-47fa-40d9-a242-c93b91ae7d8f",
   "metadata": {},
   "source": [
    "* For this question, we will use the variable from the previous question \"ZTBus_Route_bus\" \n",
    "* We group it by \"busRoute\".\n",
    "* We calculate the maximum and minimum value of \"Ratio_Energy_Distance\" and store it in 2 variables\n",
    "* We make a Join with the merge function of these 2 variables, the common column will be \"busRoute\" \n",
    "* We will store in a variable the result of the merge.\n",
    "* We create a new column in this last variable that will be the difference between the maximum and minimum value of the ratio."
   ]
  },
  {
   "cell_type": "code",
   "execution_count": 28,
   "id": "2687b2cf-2065-4951-91f4-6d055d5d685e",
   "metadata": {
    "tags": []
   },
   "outputs": [
    {
     "data": {
      "text/html": [
       "<div>\n",
       "<style scoped>\n",
       "    .dataframe tbody tr th:only-of-type {\n",
       "        vertical-align: middle;\n",
       "    }\n",
       "\n",
       "    .dataframe tbody tr th {\n",
       "        vertical-align: top;\n",
       "    }\n",
       "\n",
       "    .dataframe thead th {\n",
       "        text-align: right;\n",
       "    }\n",
       "</style>\n",
       "<table border=\"1\" class=\"dataframe\">\n",
       "  <thead>\n",
       "    <tr style=\"text-align: right;\">\n",
       "      <th></th>\n",
       "      <th>busRoute</th>\n",
       "      <th>max_ratio_energy</th>\n",
       "      <th>min_ratio_energy</th>\n",
       "      <th>Dif_max_min</th>\n",
       "    </tr>\n",
       "  </thead>\n",
       "  <tbody>\n",
       "    <tr>\n",
       "      <th>0</th>\n",
       "      <td>-</td>\n",
       "      <td>7126.201782</td>\n",
       "      <td>4855.316392</td>\n",
       "      <td>2270.885390</td>\n",
       "    </tr>\n",
       "    <tr>\n",
       "      <th>1</th>\n",
       "      <td>31</td>\n",
       "      <td>8352.782142</td>\n",
       "      <td>4779.099457</td>\n",
       "      <td>3573.682685</td>\n",
       "    </tr>\n",
       "    <tr>\n",
       "      <th>2</th>\n",
       "      <td>32</td>\n",
       "      <td>8224.940819</td>\n",
       "      <td>4718.151344</td>\n",
       "      <td>3506.789475</td>\n",
       "    </tr>\n",
       "    <tr>\n",
       "      <th>3</th>\n",
       "      <td>33</td>\n",
       "      <td>8135.999322</td>\n",
       "      <td>4124.414704</td>\n",
       "      <td>4011.584617</td>\n",
       "    </tr>\n",
       "    <tr>\n",
       "      <th>4</th>\n",
       "      <td>46</td>\n",
       "      <td>7930.619197</td>\n",
       "      <td>4260.346565</td>\n",
       "      <td>3670.272632</td>\n",
       "    </tr>\n",
       "    <tr>\n",
       "      <th>5</th>\n",
       "      <td>72</td>\n",
       "      <td>8655.515149</td>\n",
       "      <td>4302.356316</td>\n",
       "      <td>4353.158833</td>\n",
       "    </tr>\n",
       "    <tr>\n",
       "      <th>6</th>\n",
       "      <td>83</td>\n",
       "      <td>8542.956407</td>\n",
       "      <td>4032.768899</td>\n",
       "      <td>4510.187507</td>\n",
       "    </tr>\n",
       "    <tr>\n",
       "      <th>7</th>\n",
       "      <td>N1</td>\n",
       "      <td>7589.040341</td>\n",
       "      <td>4617.548180</td>\n",
       "      <td>2971.492161</td>\n",
       "    </tr>\n",
       "    <tr>\n",
       "      <th>8</th>\n",
       "      <td>N2</td>\n",
       "      <td>7401.677294</td>\n",
       "      <td>3932.347200</td>\n",
       "      <td>3469.330094</td>\n",
       "    </tr>\n",
       "    <tr>\n",
       "      <th>9</th>\n",
       "      <td>N4</td>\n",
       "      <td>7137.138141</td>\n",
       "      <td>4756.114403</td>\n",
       "      <td>2381.023738</td>\n",
       "    </tr>\n",
       "  </tbody>\n",
       "</table>\n",
       "</div>"
      ],
      "text/plain": [
       "  busRoute  max_ratio_energy  min_ratio_energy  Dif_max_min\n",
       "0        -       7126.201782       4855.316392  2270.885390\n",
       "1       31       8352.782142       4779.099457  3573.682685\n",
       "2       32       8224.940819       4718.151344  3506.789475\n",
       "3       33       8135.999322       4124.414704  4011.584617\n",
       "4       46       7930.619197       4260.346565  3670.272632\n",
       "5       72       8655.515149       4302.356316  4353.158833\n",
       "6       83       8542.956407       4032.768899  4510.187507\n",
       "7       N1       7589.040341       4617.548180  2971.492161\n",
       "8       N2       7401.677294       3932.347200  3469.330094\n",
       "9       N4       7137.138141       4756.114403  2381.023738"
      ]
     },
     "execution_count": 28,
     "metadata": {},
     "output_type": "execute_result"
    }
   ],
   "source": [
    "# Create the variables for the minimum and maximum ratios\n",
    "max_ratio_energy = ZTBus_Route_Bus.groupby('busRoute')['Ratio_Energy_Distance'].max().reset_index(name='max_ratio_energy')\n",
    "min_ratio_energy = ZTBus_Route_Bus.groupby('busRoute')['Ratio_Energy_Distance'].min().reset_index(name='min_ratio_energy')\n",
    "\n",
    "# Combines the variables max_ratio_energy and min_ratio_energy with the merge function\n",
    "ZTBus_ratio_energy = pd.merge(max_ratio_energy, min_ratio_energy, on='busRoute')\n",
    "\n",
    "# Calculates the difference\n",
    "ZTBus_ratio_energy['Dif_max_min'] = ZTBus_ratio_energy['max_ratio_energy'] - ZTBus_ratio_energy['min_ratio_energy']\n",
    "ZTBus_ratio_energy"
   ]
  },
  {
   "cell_type": "markdown",
   "id": "2bf98f50-14b1-4a48-9906-c71e614789c5",
   "metadata": {
    "editable": true,
    "slideshow": {
     "slide_type": ""
    },
    "tags": []
   },
   "source": [
    "### 11. Find the bus maximizing the difference computed in the previous point."
   ]
  },
  {
   "cell_type": "markdown",
   "id": "a16dc9c7-c5f4-48f3-92b6-f4bda36a8fb9",
   "metadata": {},
   "source": [
    "* First we calculate the maximum value of \"Dif_max_min\" and store it in a variable.\n",
    "* We create a second variable that is a dataframe of the previous table but making a filter in the column         \"Dif_max_min\" so that it is equal to the first variable created, which would be the maximum value of the       difference.\n",
    "* This last variable will be a dataframe of 1 single row, which will have data in each column that we will       store in other variables using the iloc function.\n",
    "* With the obtained variables, we will look for the bus with the maximum and minimum value by intersecting       \"busRoute\" with \"Ratio_Energy_Distance\", which will store only the value of the \"name\" column."
   ]
  },
  {
   "cell_type": "code",
   "execution_count": 29,
   "id": "ebdcac52-fc81-4e32-9dac-bf96554701cf",
   "metadata": {
    "tags": []
   },
   "outputs": [
    {
     "name": "stdout",
     "output_type": "stream",
     "text": [
      "the buses that belong to the maximum difference of energy - distance ratio:\n",
      "\n",
      "Bus with the maximum ratio:\n",
      "                                             name\n",
      "612  B183_2020-12-01_14-28-08_2020-12-01_19-39-08\n",
      "\n",
      "Bus with the minimum ratio:\n",
      "                                              name\n",
      "1084  B208_2021-09-24_03-48-42_2021-09-24_07-47-53\n"
     ]
    }
   ],
   "source": [
    "max_diff=ZTBus_ratio_energy['Dif_max_min'].max()\n",
    "max_diff_row=ZTBus_ratio_energy[ZTBus_ratio_energy['Dif_max_min']==max_diff]\n",
    "\n",
    "max_min_busRoute=max_diff_row['busRoute'].iloc[0]\n",
    "max_value=max_diff_row['max_ratio_energy'].iloc[0]\n",
    "min_value=max_diff_row['min_ratio_energy'].iloc[0]\n",
    "\n",
    "bus_max=ZTBus_Route_Bus[(ZTBus_Route_Bus['busRoute']==max_min_busRoute)&(ZTBus_Route_Bus['Ratio_Energy_Distance']==max_value)][['name']]\n",
    "bus_min=ZTBus_Route_Bus[(ZTBus_Route_Bus['busRoute']==max_min_busRoute)&(ZTBus_Route_Bus['Ratio_Energy_Distance']==min_value)][['name']]\n",
    "\n",
    "print(\"the buses that belong to the maximum difference of energy - distance ratio:\")\n",
    "print(\"\\nBus with the maximum ratio:\")\n",
    "print(bus_max)\n",
    "\n",
    "print(\"\\nBus with the minimum ratio:\")\n",
    "print(bus_min)"
   ]
  },
  {
   "cell_type": "markdown",
   "id": "b473c62b-ed47-41b4-9de9-38999c6c6427",
   "metadata": {
    "editable": true,
    "slideshow": {
     "slide_type": ""
    },
    "tags": []
   },
   "source": [
    "### 12. Extract the rows of the details such that the `gnss_altitude` differs from the value in the preceding row. Store also the difference in the variable `altitude_variation`."
   ]
  },
  {
   "cell_type": "markdown",
   "id": "b6bdb7fd-e5fe-451d-a677-5de74dba8a7a",
   "metadata": {},
   "source": [
    "* We will use in this case the database \"df_bus\" and we will make a copy but only 2 columns: \"name\" and           \"gnss_altitude\".\n",
    "* We add a column \"previous_altitude\", which will be the preceding value of \"gnss_altitude\" with the function     shift() but with the condition that if the previous row has the same value of the column \"name\", if it         doesn't, then the value of the same row will be copied.\n",
    "* We create another column called \"altitude_variation\", which will be the difference between \"gnss_altitude\"     and \"previous_altitude\"."
   ]
  },
  {
   "cell_type": "code",
   "execution_count": 30,
   "id": "a07d2307-4752-48cc-a1e3-93fc4c8a0069",
   "metadata": {},
   "outputs": [
    {
     "data": {
      "text/html": [
       "<div>\n",
       "<style scoped>\n",
       "    .dataframe tbody tr th:only-of-type {\n",
       "        vertical-align: middle;\n",
       "    }\n",
       "\n",
       "    .dataframe tbody tr th {\n",
       "        vertical-align: top;\n",
       "    }\n",
       "\n",
       "    .dataframe thead th {\n",
       "        text-align: right;\n",
       "    }\n",
       "</style>\n",
       "<table border=\"1\" class=\"dataframe\">\n",
       "  <thead>\n",
       "    <tr style=\"text-align: right;\">\n",
       "      <th></th>\n",
       "      <th>name</th>\n",
       "      <th>gnss_altitude</th>\n",
       "      <th>previous_altitude</th>\n",
       "      <th>altitude_variation</th>\n",
       "    </tr>\n",
       "  </thead>\n",
       "  <tbody>\n",
       "    <tr>\n",
       "      <th>0</th>\n",
       "      <td>B183_2019-04-30_03-18-56_2019-04-30_08-44-20</td>\n",
       "      <td>397.8</td>\n",
       "      <td>397.8</td>\n",
       "      <td>0.0</td>\n",
       "    </tr>\n",
       "    <tr>\n",
       "      <th>1</th>\n",
       "      <td>B183_2019-04-30_03-18-56_2019-04-30_08-44-20</td>\n",
       "      <td>397.8</td>\n",
       "      <td>397.8</td>\n",
       "      <td>0.0</td>\n",
       "    </tr>\n",
       "    <tr>\n",
       "      <th>2</th>\n",
       "      <td>B183_2019-04-30_03-18-56_2019-04-30_08-44-20</td>\n",
       "      <td>397.8</td>\n",
       "      <td>397.8</td>\n",
       "      <td>0.0</td>\n",
       "    </tr>\n",
       "    <tr>\n",
       "      <th>3</th>\n",
       "      <td>B183_2019-04-30_03-18-56_2019-04-30_08-44-20</td>\n",
       "      <td>397.8</td>\n",
       "      <td>397.8</td>\n",
       "      <td>0.0</td>\n",
       "    </tr>\n",
       "    <tr>\n",
       "      <th>4</th>\n",
       "      <td>B183_2019-04-30_03-18-56_2019-04-30_08-44-20</td>\n",
       "      <td>397.8</td>\n",
       "      <td>397.8</td>\n",
       "      <td>0.0</td>\n",
       "    </tr>\n",
       "  </tbody>\n",
       "</table>\n",
       "</div>"
      ],
      "text/plain": [
       "                                           name  gnss_altitude  \\\n",
       "0  B183_2019-04-30_03-18-56_2019-04-30_08-44-20          397.8   \n",
       "1  B183_2019-04-30_03-18-56_2019-04-30_08-44-20          397.8   \n",
       "2  B183_2019-04-30_03-18-56_2019-04-30_08-44-20          397.8   \n",
       "3  B183_2019-04-30_03-18-56_2019-04-30_08-44-20          397.8   \n",
       "4  B183_2019-04-30_03-18-56_2019-04-30_08-44-20          397.8   \n",
       "\n",
       "   previous_altitude  altitude_variation  \n",
       "0              397.8                 0.0  \n",
       "1              397.8                 0.0  \n",
       "2              397.8                 0.0  \n",
       "3              397.8                 0.0  \n",
       "4              397.8                 0.0  "
      ]
     },
     "execution_count": 30,
     "metadata": {},
     "output_type": "execute_result"
    }
   ],
   "source": [
    "# Copy the database\n",
    "df_bus_altitude = df_bus[['name','gnss_altitude']].copy()\n",
    "\n",
    "df_bus_altitude = df_bus_altitude.dropna(subset=['gnss_altitude']).reset_index(drop=True)\n",
    "\n",
    "# Create the column 'previous_altitude' based on the condition\n",
    "df_bus_altitude['previous_altitude'] = df_bus_altitude['gnss_altitude'].shift(1)\n",
    "df_bus_altitude.loc[df_bus_altitude['name'] != df_bus_altitude['name'].shift(1), 'previous_altitude'] = df_bus_altitude['gnss_altitude']\n",
    "\n",
    "df_bus_altitude['altitude_variation'] = df_bus_altitude['gnss_altitude'] - df_bus_altitude['previous_altitude']\n",
    "df_bus_altitude.head()\n"
   ]
  },
  {
   "cell_type": "code",
   "execution_count": 31,
   "id": "68c398aa-2507-4726-9908-c2883c8032e2",
   "metadata": {
    "tags": []
   },
   "outputs": [
    {
     "data": {
      "text/html": [
       "<div>\n",
       "<style scoped>\n",
       "    .dataframe tbody tr th:only-of-type {\n",
       "        vertical-align: middle;\n",
       "    }\n",
       "\n",
       "    .dataframe tbody tr th {\n",
       "        vertical-align: top;\n",
       "    }\n",
       "\n",
       "    .dataframe thead th {\n",
       "        text-align: right;\n",
       "    }\n",
       "</style>\n",
       "<table border=\"1\" class=\"dataframe\">\n",
       "  <thead>\n",
       "    <tr style=\"text-align: right;\">\n",
       "      <th></th>\n",
       "      <th>name</th>\n",
       "      <th>gnss_altitude</th>\n",
       "      <th>previous_altitude</th>\n",
       "      <th>altitude_variation</th>\n",
       "    </tr>\n",
       "  </thead>\n",
       "  <tbody>\n",
       "    <tr>\n",
       "      <th>0</th>\n",
       "      <td>B183_2019-04-30_03-18-56_2019-04-30_08-44-20</td>\n",
       "      <td>397.8000</td>\n",
       "      <td>397.8000</td>\n",
       "      <td>0.0000</td>\n",
       "    </tr>\n",
       "    <tr>\n",
       "      <th>1</th>\n",
       "      <td>B183_2019-04-30_03-18-56_2019-04-30_08-44-20</td>\n",
       "      <td>397.8000</td>\n",
       "      <td>397.8000</td>\n",
       "      <td>0.0000</td>\n",
       "    </tr>\n",
       "    <tr>\n",
       "      <th>2</th>\n",
       "      <td>B183_2019-04-30_03-18-56_2019-04-30_08-44-20</td>\n",
       "      <td>397.8000</td>\n",
       "      <td>397.8000</td>\n",
       "      <td>0.0000</td>\n",
       "    </tr>\n",
       "    <tr>\n",
       "      <th>3</th>\n",
       "      <td>B183_2019-04-30_03-18-56_2019-04-30_08-44-20</td>\n",
       "      <td>397.8000</td>\n",
       "      <td>397.8000</td>\n",
       "      <td>0.0000</td>\n",
       "    </tr>\n",
       "    <tr>\n",
       "      <th>4</th>\n",
       "      <td>B183_2019-04-30_03-18-56_2019-04-30_08-44-20</td>\n",
       "      <td>397.8000</td>\n",
       "      <td>397.8000</td>\n",
       "      <td>0.0000</td>\n",
       "    </tr>\n",
       "    <tr>\n",
       "      <th>5</th>\n",
       "      <td>B183_2019-04-30_03-18-56_2019-04-30_08-44-20</td>\n",
       "      <td>397.8000</td>\n",
       "      <td>397.8000</td>\n",
       "      <td>0.0000</td>\n",
       "    </tr>\n",
       "    <tr>\n",
       "      <th>6</th>\n",
       "      <td>B183_2019-04-30_03-18-56_2019-04-30_08-44-20</td>\n",
       "      <td>397.8299</td>\n",
       "      <td>397.8000</td>\n",
       "      <td>0.0299</td>\n",
       "    </tr>\n",
       "    <tr>\n",
       "      <th>7</th>\n",
       "      <td>B183_2019-04-30_03-18-56_2019-04-30_08-44-20</td>\n",
       "      <td>400.3140</td>\n",
       "      <td>397.8299</td>\n",
       "      <td>2.4841</td>\n",
       "    </tr>\n",
       "    <tr>\n",
       "      <th>8</th>\n",
       "      <td>B183_2019-04-30_03-18-56_2019-04-30_08-44-20</td>\n",
       "      <td>401.6892</td>\n",
       "      <td>400.3140</td>\n",
       "      <td>1.3752</td>\n",
       "    </tr>\n",
       "    <tr>\n",
       "      <th>9</th>\n",
       "      <td>B183_2019-04-30_03-18-56_2019-04-30_08-44-20</td>\n",
       "      <td>400.4860</td>\n",
       "      <td>401.6892</td>\n",
       "      <td>-1.2032</td>\n",
       "    </tr>\n",
       "  </tbody>\n",
       "</table>\n",
       "</div>"
      ],
      "text/plain": [
       "                                           name  gnss_altitude  \\\n",
       "0  B183_2019-04-30_03-18-56_2019-04-30_08-44-20       397.8000   \n",
       "1  B183_2019-04-30_03-18-56_2019-04-30_08-44-20       397.8000   \n",
       "2  B183_2019-04-30_03-18-56_2019-04-30_08-44-20       397.8000   \n",
       "3  B183_2019-04-30_03-18-56_2019-04-30_08-44-20       397.8000   \n",
       "4  B183_2019-04-30_03-18-56_2019-04-30_08-44-20       397.8000   \n",
       "5  B183_2019-04-30_03-18-56_2019-04-30_08-44-20       397.8000   \n",
       "6  B183_2019-04-30_03-18-56_2019-04-30_08-44-20       397.8299   \n",
       "7  B183_2019-04-30_03-18-56_2019-04-30_08-44-20       400.3140   \n",
       "8  B183_2019-04-30_03-18-56_2019-04-30_08-44-20       401.6892   \n",
       "9  B183_2019-04-30_03-18-56_2019-04-30_08-44-20       400.4860   \n",
       "\n",
       "   previous_altitude  altitude_variation  \n",
       "0           397.8000              0.0000  \n",
       "1           397.8000              0.0000  \n",
       "2           397.8000              0.0000  \n",
       "3           397.8000              0.0000  \n",
       "4           397.8000              0.0000  \n",
       "5           397.8000              0.0000  \n",
       "6           397.8000              0.0299  \n",
       "7           397.8299              2.4841  \n",
       "8           400.3140              1.3752  \n",
       "9           401.6892             -1.2032  "
      ]
     },
     "execution_count": 31,
     "metadata": {},
     "output_type": "execute_result"
    }
   ],
   "source": [
    "df_bus_altitude.head(10)"
   ]
  },
  {
   "cell_type": "code",
   "execution_count": 32,
   "id": "2e69243e-8dad-42fb-873a-e3e72a38bdb8",
   "metadata": {
    "tags": []
   },
   "outputs": [
    {
     "data": {
      "text/plain": [
       "(47343578, 4)"
      ]
     },
     "execution_count": 32,
     "metadata": {},
     "output_type": "execute_result"
    }
   ],
   "source": [
    "df_bus_altitude.shape"
   ]
  },
  {
   "cell_type": "code",
   "execution_count": 33,
   "id": "0718b3fe-3060-4338-b125-1d825ff2d42e",
   "metadata": {
    "tags": []
   },
   "outputs": [
    {
     "data": {
      "text/html": [
       "<div>\n",
       "<style scoped>\n",
       "    .dataframe tbody tr th:only-of-type {\n",
       "        vertical-align: middle;\n",
       "    }\n",
       "\n",
       "    .dataframe tbody tr th {\n",
       "        vertical-align: top;\n",
       "    }\n",
       "\n",
       "    .dataframe thead th {\n",
       "        text-align: right;\n",
       "    }\n",
       "</style>\n",
       "<table border=\"1\" class=\"dataframe\">\n",
       "  <thead>\n",
       "    <tr style=\"text-align: right;\">\n",
       "      <th></th>\n",
       "      <th>name</th>\n",
       "      <th>gnss_altitude</th>\n",
       "      <th>previous_altitude</th>\n",
       "      <th>altitude_variation</th>\n",
       "    </tr>\n",
       "  </thead>\n",
       "  <tbody>\n",
       "    <tr>\n",
       "      <th>6</th>\n",
       "      <td>B183_2019-04-30_03-18-56_2019-04-30_08-44-20</td>\n",
       "      <td>397.8299</td>\n",
       "      <td>397.8000</td>\n",
       "      <td>0.0299</td>\n",
       "    </tr>\n",
       "    <tr>\n",
       "      <th>7</th>\n",
       "      <td>B183_2019-04-30_03-18-56_2019-04-30_08-44-20</td>\n",
       "      <td>400.3140</td>\n",
       "      <td>397.8299</td>\n",
       "      <td>2.4841</td>\n",
       "    </tr>\n",
       "    <tr>\n",
       "      <th>8</th>\n",
       "      <td>B183_2019-04-30_03-18-56_2019-04-30_08-44-20</td>\n",
       "      <td>401.6892</td>\n",
       "      <td>400.3140</td>\n",
       "      <td>1.3752</td>\n",
       "    </tr>\n",
       "    <tr>\n",
       "      <th>11</th>\n",
       "      <td>B183_2019-04-30_03-18-56_2019-04-30_08-44-20</td>\n",
       "      <td>400.7065</td>\n",
       "      <td>399.1192</td>\n",
       "      <td>1.5873</td>\n",
       "    </tr>\n",
       "    <tr>\n",
       "      <th>12</th>\n",
       "      <td>B183_2019-04-30_03-18-56_2019-04-30_08-44-20</td>\n",
       "      <td>401.2039</td>\n",
       "      <td>400.7065</td>\n",
       "      <td>0.4974</td>\n",
       "    </tr>\n",
       "  </tbody>\n",
       "</table>\n",
       "</div>"
      ],
      "text/plain": [
       "                                            name  gnss_altitude  \\\n",
       "6   B183_2019-04-30_03-18-56_2019-04-30_08-44-20       397.8299   \n",
       "7   B183_2019-04-30_03-18-56_2019-04-30_08-44-20       400.3140   \n",
       "8   B183_2019-04-30_03-18-56_2019-04-30_08-44-20       401.6892   \n",
       "11  B183_2019-04-30_03-18-56_2019-04-30_08-44-20       400.7065   \n",
       "12  B183_2019-04-30_03-18-56_2019-04-30_08-44-20       401.2039   \n",
       "\n",
       "    previous_altitude  altitude_variation  \n",
       "6            397.8000              0.0299  \n",
       "7            397.8299              2.4841  \n",
       "8            400.3140              1.3752  \n",
       "11           399.1192              1.5873  \n",
       "12           400.7065              0.4974  "
      ]
     },
     "execution_count": 33,
     "metadata": {},
     "output_type": "execute_result"
    }
   ],
   "source": [
    "# To verify, we delete the rows of the column \"altitude_variation\" that have values equal to 0.\n",
    "df_bus_alt = df_bus_altitude[df_bus_altitude['altitude_variation'] > 0]\n",
    "df_bus_alt.head()"
   ]
  },
  {
   "cell_type": "code",
   "execution_count": null,
   "id": "59237c92-3c02-4461-a712-6edafb887b05",
   "metadata": {},
   "outputs": [],
   "source": []
  },
  {
   "cell_type": "code",
   "execution_count": 34,
   "id": "03194957-a7ac-4842-b6cc-18e60e458eca",
   "metadata": {
    "tags": []
   },
   "outputs": [
    {
     "data": {
      "text/html": [
       "<div>\n",
       "<style scoped>\n",
       "    .dataframe tbody tr th:only-of-type {\n",
       "        vertical-align: middle;\n",
       "    }\n",
       "\n",
       "    .dataframe tbody tr th {\n",
       "        vertical-align: top;\n",
       "    }\n",
       "\n",
       "    .dataframe thead th {\n",
       "        text-align: right;\n",
       "    }\n",
       "</style>\n",
       "<table border=\"1\" class=\"dataframe\">\n",
       "  <thead>\n",
       "    <tr style=\"text-align: right;\">\n",
       "      <th></th>\n",
       "      <th>name</th>\n",
       "      <th>gnss_altitude</th>\n",
       "      <th>previous_altitude</th>\n",
       "      <th>altitude_variation</th>\n",
       "    </tr>\n",
       "  </thead>\n",
       "  <tbody>\n",
       "    <tr>\n",
       "      <th>0</th>\n",
       "      <td>B183_2019-04-30_03-18-56_2019-04-30_08-44-20</td>\n",
       "      <td>NaN</td>\n",
       "      <td>NaN</td>\n",
       "      <td>NaN</td>\n",
       "    </tr>\n",
       "    <tr>\n",
       "      <th>1</th>\n",
       "      <td>B183_2019-04-30_03-18-56_2019-04-30_08-44-20</td>\n",
       "      <td>NaN</td>\n",
       "      <td>NaN</td>\n",
       "      <td>NaN</td>\n",
       "    </tr>\n",
       "    <tr>\n",
       "      <th>2</th>\n",
       "      <td>B183_2019-04-30_03-18-56_2019-04-30_08-44-20</td>\n",
       "      <td>NaN</td>\n",
       "      <td>NaN</td>\n",
       "      <td>NaN</td>\n",
       "    </tr>\n",
       "    <tr>\n",
       "      <th>3</th>\n",
       "      <td>B183_2019-04-30_03-18-56_2019-04-30_08-44-20</td>\n",
       "      <td>NaN</td>\n",
       "      <td>NaN</td>\n",
       "      <td>NaN</td>\n",
       "    </tr>\n",
       "    <tr>\n",
       "      <th>4</th>\n",
       "      <td>B183_2019-04-30_03-18-56_2019-04-30_08-44-20</td>\n",
       "      <td>NaN</td>\n",
       "      <td>NaN</td>\n",
       "      <td>NaN</td>\n",
       "    </tr>\n",
       "  </tbody>\n",
       "</table>\n",
       "</div>"
      ],
      "text/plain": [
       "                                           name  gnss_altitude  \\\n",
       "0  B183_2019-04-30_03-18-56_2019-04-30_08-44-20            NaN   \n",
       "1  B183_2019-04-30_03-18-56_2019-04-30_08-44-20            NaN   \n",
       "2  B183_2019-04-30_03-18-56_2019-04-30_08-44-20            NaN   \n",
       "3  B183_2019-04-30_03-18-56_2019-04-30_08-44-20            NaN   \n",
       "4  B183_2019-04-30_03-18-56_2019-04-30_08-44-20            NaN   \n",
       "\n",
       "   previous_altitude  altitude_variation  \n",
       "0                NaN                 NaN  \n",
       "1                NaN                 NaN  \n",
       "2                NaN                 NaN  \n",
       "3                NaN                 NaN  \n",
       "4                NaN                 NaN  "
      ]
     },
     "execution_count": 34,
     "metadata": {},
     "output_type": "execute_result"
    }
   ],
   "source": [
    "# what if we do not delete the NaN in column \"gnss_altitude\"?\n",
    "# Copy the database\n",
    "df_bus_altitude_2 = df_bus[['name','gnss_altitude']].copy()\n",
    "\n",
    "# Create the column 'previous_altitude' based on the condition\n",
    "df_bus_altitude_2['previous_altitude'] = df_bus_altitude_2['gnss_altitude'].shift(1)\n",
    "df_bus_altitude_2.loc[df_bus_altitude_2['name'] != df_bus_altitude_2['name'].shift(1), 'previous_altitude'] = df_bus_altitude_2['gnss_altitude']\n",
    "\n",
    "df_bus_altitude_2['altitude_variation'] = df_bus_altitude_2['gnss_altitude'] - df_bus_altitude_2['previous_altitude']\n",
    "df_bus_altitude_2.head()"
   ]
  },
  {
   "cell_type": "code",
   "execution_count": 35,
   "id": "1ed1745d-d878-4c04-acff-396c33f7b2f4",
   "metadata": {
    "tags": []
   },
   "outputs": [
    {
     "data": {
      "text/plain": [
       "(48674462, 4)"
      ]
     },
     "execution_count": 35,
     "metadata": {},
     "output_type": "execute_result"
    }
   ],
   "source": [
    "df_bus_altitude_2.shape"
   ]
  },
  {
   "cell_type": "code",
   "execution_count": 36,
   "id": "1b16b6aa-3b3d-4f0b-b208-90492fa490e3",
   "metadata": {
    "tags": []
   },
   "outputs": [
    {
     "data": {
      "text/html": [
       "<div>\n",
       "<style scoped>\n",
       "    .dataframe tbody tr th:only-of-type {\n",
       "        vertical-align: middle;\n",
       "    }\n",
       "\n",
       "    .dataframe tbody tr th {\n",
       "        vertical-align: top;\n",
       "    }\n",
       "\n",
       "    .dataframe thead th {\n",
       "        text-align: right;\n",
       "    }\n",
       "</style>\n",
       "<table border=\"1\" class=\"dataframe\">\n",
       "  <thead>\n",
       "    <tr style=\"text-align: right;\">\n",
       "      <th></th>\n",
       "      <th>name</th>\n",
       "      <th>gnss_altitude</th>\n",
       "      <th>previous_altitude</th>\n",
       "      <th>altitude_variation</th>\n",
       "    </tr>\n",
       "  </thead>\n",
       "  <tbody>\n",
       "    <tr>\n",
       "      <th>5</th>\n",
       "      <td>B183_2019-04-30_03-18-56_2019-04-30_08-44-20</td>\n",
       "      <td>397.8299</td>\n",
       "      <td>397.8000</td>\n",
       "      <td>0.0299</td>\n",
       "    </tr>\n",
       "    <tr>\n",
       "      <th>6</th>\n",
       "      <td>B183_2019-04-30_03-18-56_2019-04-30_08-44-20</td>\n",
       "      <td>400.3140</td>\n",
       "      <td>397.8299</td>\n",
       "      <td>2.4841</td>\n",
       "    </tr>\n",
       "    <tr>\n",
       "      <th>7</th>\n",
       "      <td>B183_2019-04-30_03-18-56_2019-04-30_08-44-20</td>\n",
       "      <td>401.6892</td>\n",
       "      <td>400.3140</td>\n",
       "      <td>1.3752</td>\n",
       "    </tr>\n",
       "    <tr>\n",
       "      <th>10</th>\n",
       "      <td>B183_2019-04-30_03-18-56_2019-04-30_08-44-20</td>\n",
       "      <td>400.7065</td>\n",
       "      <td>399.1192</td>\n",
       "      <td>1.5873</td>\n",
       "    </tr>\n",
       "    <tr>\n",
       "      <th>11</th>\n",
       "      <td>B183_2019-04-30_03-18-56_2019-04-30_08-44-20</td>\n",
       "      <td>401.2039</td>\n",
       "      <td>400.7065</td>\n",
       "      <td>0.4974</td>\n",
       "    </tr>\n",
       "  </tbody>\n",
       "</table>\n",
       "</div>"
      ],
      "text/plain": [
       "                                            name  gnss_altitude  \\\n",
       "5   B183_2019-04-30_03-18-56_2019-04-30_08-44-20       397.8299   \n",
       "6   B183_2019-04-30_03-18-56_2019-04-30_08-44-20       400.3140   \n",
       "7   B183_2019-04-30_03-18-56_2019-04-30_08-44-20       401.6892   \n",
       "10  B183_2019-04-30_03-18-56_2019-04-30_08-44-20       400.7065   \n",
       "11  B183_2019-04-30_03-18-56_2019-04-30_08-44-20       401.2039   \n",
       "\n",
       "    previous_altitude  altitude_variation  \n",
       "5            397.8000              0.0299  \n",
       "6            397.8299              2.4841  \n",
       "7            400.3140              1.3752  \n",
       "10           399.1192              1.5873  \n",
       "11           400.7065              0.4974  "
      ]
     },
     "execution_count": 36,
     "metadata": {},
     "output_type": "execute_result"
    }
   ],
   "source": [
    "# To verify, we delete the rows of the column \"altitude_variation\" that have values equal to 0 and NaN.\n",
    "df_bus_altitude_2 = df_bus_altitude_2.dropna(subset=['altitude_variation']).reset_index(drop=True)\n",
    "df_bus_alt_2 = df_bus_altitude_2[df_bus_altitude_2['altitude_variation'] > 0]\n",
    "df_bus_alt_2.head()"
   ]
  },
  {
   "cell_type": "markdown",
   "id": "9af8db3f-9440-45f3-ab0a-7816a2f07eff",
   "metadata": {
    "editable": true,
    "slideshow": {
     "slide_type": ""
    },
    "tags": []
   },
   "source": [
    "### 13. For each details dataset, compute the sum of the absolute value (i.e. the sign is not considered) of `altitude_variation`."
   ]
  },
  {
   "cell_type": "markdown",
   "id": "4c745f1c-f4b1-40dd-a2dc-20592cf708c0",
   "metadata": {},
   "source": [
    "* We create a column that will be the absolute values of the column \"altitude_vaiation\"\n",
    "* We use the function apply and lambda to make the values all positive.\n",
    "* Apply the sum function to the new column and round to 3 decimal places."
   ]
  },
  {
   "cell_type": "code",
   "execution_count": 37,
   "id": "d3060212-9604-426a-8483-67f949f6490e",
   "metadata": {},
   "outputs": [
    {
     "data": {
      "text/plain": [
       "15958210.543"
      ]
     },
     "execution_count": 37,
     "metadata": {},
     "output_type": "execute_result"
    }
   ],
   "source": [
    "# Calculate the sum of the absolute values without using abs()\n",
    "df_bus_altitude['altitude_sum'] = df_bus_altitude['altitude_variation'].apply(lambda x: x if x >= 0 else -x)\n",
    "round(df_bus_altitude['altitude_sum'].sum(), 3)"
   ]
  },
  {
   "cell_type": "markdown",
   "id": "d067e219-acb6-4fb6-827e-6a610787b43a",
   "metadata": {},
   "source": [
    "* Another way to solve\n",
    "* We can directly use the abs() function"
   ]
  },
  {
   "cell_type": "code",
   "execution_count": 38,
   "id": "71fd7e89-60b1-439f-8657-d17b21329ef3",
   "metadata": {
    "tags": []
   },
   "outputs": [
    {
     "data": {
      "text/plain": [
       "15958210.543"
      ]
     },
     "execution_count": 38,
     "metadata": {},
     "output_type": "execute_result"
    }
   ],
   "source": [
    "df_bus_altitude['altitude_sum']=df_bus_altitude['altitude_variation'].abs()\n",
    "round(df_bus_altitude['altitude_sum'].sum(),3)"
   ]
  },
  {
   "cell_type": "markdown",
   "id": "5c2bbb8e-3462-4c61-92b9-5d1a848c0841",
   "metadata": {
    "editable": true,
    "slideshow": {
     "slide_type": ""
    },
    "tags": []
   },
   "source": [
    "### 14.  For each month of the year, compute the average ambient temperature"
   ]
  },
  {
   "cell_type": "markdown",
   "id": "faecc2b1-4ab3-469f-b944-80d750a9b260",
   "metadata": {},
   "source": [
    "* For this question, we can use either of the 2 databases.\n",
    "* ZTBUS:\n",
    "    * We make a copy of the database but only the columns we are going to use: \"starTime_iso\" and                     \"temperature_ambient_mean\".\n",
    "    * We use the function to_datetime to the column \"starTime_iso\".\n",
    "    * We create 2 columns and they will be \"month\" and \"year\".\n",
    "    * We group according to \"year\" and \"month\" and calculate the average of the column                               \"temperature_ambient_mean\".\n",
    "* ALL_BUS:\n",
    "    * we do the same procedure but with the columns \"time_iso\" and \"temperature_ambient\"."
   ]
  },
  {
   "cell_type": "code",
   "execution_count": 39,
   "id": "4124cd3e-4bdc-466c-a939-1d40832350c1",
   "metadata": {
    "tags": []
   },
   "outputs": [
    {
     "data": {
      "text/html": [
       "<div>\n",
       "<style scoped>\n",
       "    .dataframe tbody tr th:only-of-type {\n",
       "        vertical-align: middle;\n",
       "    }\n",
       "\n",
       "    .dataframe tbody tr th {\n",
       "        vertical-align: top;\n",
       "    }\n",
       "\n",
       "    .dataframe thead th {\n",
       "        text-align: right;\n",
       "    }\n",
       "</style>\n",
       "<table border=\"1\" class=\"dataframe\">\n",
       "  <thead>\n",
       "    <tr style=\"text-align: right;\">\n",
       "      <th></th>\n",
       "      <th></th>\n",
       "      <th>temperature_ambient_mean</th>\n",
       "    </tr>\n",
       "    <tr>\n",
       "      <th>Year</th>\n",
       "      <th>Month</th>\n",
       "      <th></th>\n",
       "    </tr>\n",
       "  </thead>\n",
       "  <tbody>\n",
       "    <tr>\n",
       "      <th rowspan=\"9\" valign=\"top\">2019</th>\n",
       "      <th>4</th>\n",
       "      <td>284.961</td>\n",
       "    </tr>\n",
       "    <tr>\n",
       "      <th>5</th>\n",
       "      <td>286.852</td>\n",
       "    </tr>\n",
       "    <tr>\n",
       "      <th>6</th>\n",
       "      <td>298.090</td>\n",
       "    </tr>\n",
       "    <tr>\n",
       "      <th>7</th>\n",
       "      <td>297.648</td>\n",
       "    </tr>\n",
       "    <tr>\n",
       "      <th>8</th>\n",
       "      <td>294.405</td>\n",
       "    </tr>\n",
       "    <tr>\n",
       "      <th>9</th>\n",
       "      <td>290.175</td>\n",
       "    </tr>\n",
       "    <tr>\n",
       "      <th>10</th>\n",
       "      <td>287.233</td>\n",
       "    </tr>\n",
       "    <tr>\n",
       "      <th>11</th>\n",
       "      <td>280.998</td>\n",
       "    </tr>\n",
       "    <tr>\n",
       "      <th>12</th>\n",
       "      <td>279.503</td>\n",
       "    </tr>\n",
       "    <tr>\n",
       "      <th rowspan=\"11\" valign=\"top\">2020</th>\n",
       "      <th>1</th>\n",
       "      <td>279.376</td>\n",
       "    </tr>\n",
       "    <tr>\n",
       "      <th>2</th>\n",
       "      <td>280.164</td>\n",
       "    </tr>\n",
       "    <tr>\n",
       "      <th>3</th>\n",
       "      <td>282.249</td>\n",
       "    </tr>\n",
       "    <tr>\n",
       "      <th>4</th>\n",
       "      <td>288.342</td>\n",
       "    </tr>\n",
       "    <tr>\n",
       "      <th>5</th>\n",
       "      <td>289.708</td>\n",
       "    </tr>\n",
       "    <tr>\n",
       "      <th>7</th>\n",
       "      <td>297.735</td>\n",
       "    </tr>\n",
       "    <tr>\n",
       "      <th>8</th>\n",
       "      <td>296.544</td>\n",
       "    </tr>\n",
       "    <tr>\n",
       "      <th>9</th>\n",
       "      <td>295.042</td>\n",
       "    </tr>\n",
       "    <tr>\n",
       "      <th>10</th>\n",
       "      <td>285.253</td>\n",
       "    </tr>\n",
       "    <tr>\n",
       "      <th>11</th>\n",
       "      <td>281.976</td>\n",
       "    </tr>\n",
       "    <tr>\n",
       "      <th>12</th>\n",
       "      <td>278.645</td>\n",
       "    </tr>\n",
       "    <tr>\n",
       "      <th rowspan=\"12\" valign=\"top\">2021</th>\n",
       "      <th>1</th>\n",
       "      <td>276.693</td>\n",
       "    </tr>\n",
       "    <tr>\n",
       "      <th>2</th>\n",
       "      <td>282.870</td>\n",
       "    </tr>\n",
       "    <tr>\n",
       "      <th>3</th>\n",
       "      <td>283.015</td>\n",
       "    </tr>\n",
       "    <tr>\n",
       "      <th>4</th>\n",
       "      <td>286.424</td>\n",
       "    </tr>\n",
       "    <tr>\n",
       "      <th>5</th>\n",
       "      <td>288.376</td>\n",
       "    </tr>\n",
       "    <tr>\n",
       "      <th>6</th>\n",
       "      <td>295.890</td>\n",
       "    </tr>\n",
       "    <tr>\n",
       "      <th>7</th>\n",
       "      <td>295.705</td>\n",
       "    </tr>\n",
       "    <tr>\n",
       "      <th>8</th>\n",
       "      <td>293.870</td>\n",
       "    </tr>\n",
       "    <tr>\n",
       "      <th>9</th>\n",
       "      <td>293.687</td>\n",
       "    </tr>\n",
       "    <tr>\n",
       "      <th>10</th>\n",
       "      <td>286.695</td>\n",
       "    </tr>\n",
       "    <tr>\n",
       "      <th>11</th>\n",
       "      <td>280.486</td>\n",
       "    </tr>\n",
       "    <tr>\n",
       "      <th>12</th>\n",
       "      <td>279.847</td>\n",
       "    </tr>\n",
       "    <tr>\n",
       "      <th rowspan=\"12\" valign=\"top\">2022</th>\n",
       "      <th>1</th>\n",
       "      <td>278.994</td>\n",
       "    </tr>\n",
       "    <tr>\n",
       "      <th>2</th>\n",
       "      <td>280.094</td>\n",
       "    </tr>\n",
       "    <tr>\n",
       "      <th>3</th>\n",
       "      <td>284.066</td>\n",
       "    </tr>\n",
       "    <tr>\n",
       "      <th>4</th>\n",
       "      <td>286.241</td>\n",
       "    </tr>\n",
       "    <tr>\n",
       "      <th>5</th>\n",
       "      <td>293.660</td>\n",
       "    </tr>\n",
       "    <tr>\n",
       "      <th>6</th>\n",
       "      <td>295.880</td>\n",
       "    </tr>\n",
       "    <tr>\n",
       "      <th>7</th>\n",
       "      <td>298.953</td>\n",
       "    </tr>\n",
       "    <tr>\n",
       "      <th>8</th>\n",
       "      <td>297.515</td>\n",
       "    </tr>\n",
       "    <tr>\n",
       "      <th>9</th>\n",
       "      <td>290.743</td>\n",
       "    </tr>\n",
       "    <tr>\n",
       "      <th>10</th>\n",
       "      <td>289.792</td>\n",
       "    </tr>\n",
       "    <tr>\n",
       "      <th>11</th>\n",
       "      <td>283.534</td>\n",
       "    </tr>\n",
       "    <tr>\n",
       "      <th>12</th>\n",
       "      <td>278.269</td>\n",
       "    </tr>\n",
       "  </tbody>\n",
       "</table>\n",
       "</div>"
      ],
      "text/plain": [
       "            temperature_ambient_mean\n",
       "Year Month                          \n",
       "2019 4                       284.961\n",
       "     5                       286.852\n",
       "     6                       298.090\n",
       "     7                       297.648\n",
       "     8                       294.405\n",
       "     9                       290.175\n",
       "     10                      287.233\n",
       "     11                      280.998\n",
       "     12                      279.503\n",
       "2020 1                       279.376\n",
       "     2                       280.164\n",
       "     3                       282.249\n",
       "     4                       288.342\n",
       "     5                       289.708\n",
       "     7                       297.735\n",
       "     8                       296.544\n",
       "     9                       295.042\n",
       "     10                      285.253\n",
       "     11                      281.976\n",
       "     12                      278.645\n",
       "2021 1                       276.693\n",
       "     2                       282.870\n",
       "     3                       283.015\n",
       "     4                       286.424\n",
       "     5                       288.376\n",
       "     6                       295.890\n",
       "     7                       295.705\n",
       "     8                       293.870\n",
       "     9                       293.687\n",
       "     10                      286.695\n",
       "     11                      280.486\n",
       "     12                      279.847\n",
       "2022 1                       278.994\n",
       "     2                       280.094\n",
       "     3                       284.066\n",
       "     4                       286.241\n",
       "     5                       293.660\n",
       "     6                       295.880\n",
       "     7                       298.953\n",
       "     8                       297.515\n",
       "     9                       290.743\n",
       "     10                      289.792\n",
       "     11                      283.534\n",
       "     12                      278.269"
      ]
     },
     "execution_count": 39,
     "metadata": {},
     "output_type": "execute_result"
    }
   ],
   "source": [
    "ztbus_temp = ztbus[['startTime_iso', 'temperature_ambient_mean']].copy()\n",
    "\n",
    "# Convert to date format\n",
    "ztbus_temp['startTime_iso'] = pd.to_datetime(ztbus_temp['startTime_iso']) \n",
    "\n",
    "ztbus_temp['Month'] = ztbus_temp['startTime_iso'].dt.month\n",
    "ztbus_temp['Year'] = ztbus_temp['startTime_iso'].dt.year\n",
    "ztbus_temp.groupby(['Year','Month'])[['temperature_ambient_mean']].mean().round(3)"
   ]
  },
  {
   "cell_type": "code",
   "execution_count": 40,
   "id": "b68535e8-9d2d-46d7-9d6f-3aaacc704ab5",
   "metadata": {
    "tags": []
   },
   "outputs": [
    {
     "data": {
      "text/html": [
       "<div>\n",
       "<style scoped>\n",
       "    .dataframe tbody tr th:only-of-type {\n",
       "        vertical-align: middle;\n",
       "    }\n",
       "\n",
       "    .dataframe tbody tr th {\n",
       "        vertical-align: top;\n",
       "    }\n",
       "\n",
       "    .dataframe thead th {\n",
       "        text-align: right;\n",
       "    }\n",
       "</style>\n",
       "<table border=\"1\" class=\"dataframe\">\n",
       "  <thead>\n",
       "    <tr style=\"text-align: right;\">\n",
       "      <th></th>\n",
       "      <th></th>\n",
       "      <th>temperature_ambient</th>\n",
       "    </tr>\n",
       "    <tr>\n",
       "      <th>Year</th>\n",
       "      <th>Month</th>\n",
       "      <th></th>\n",
       "    </tr>\n",
       "  </thead>\n",
       "  <tbody>\n",
       "    <tr>\n",
       "      <th rowspan=\"9\" valign=\"top\">2019</th>\n",
       "      <th>4</th>\n",
       "      <td>284.742</td>\n",
       "    </tr>\n",
       "    <tr>\n",
       "      <th>5</th>\n",
       "      <td>287.412</td>\n",
       "    </tr>\n",
       "    <tr>\n",
       "      <th>6</th>\n",
       "      <td>297.837</td>\n",
       "    </tr>\n",
       "    <tr>\n",
       "      <th>7</th>\n",
       "      <td>297.372</td>\n",
       "    </tr>\n",
       "    <tr>\n",
       "      <th>8</th>\n",
       "      <td>294.657</td>\n",
       "    </tr>\n",
       "    <tr>\n",
       "      <th>9</th>\n",
       "      <td>290.038</td>\n",
       "    </tr>\n",
       "    <tr>\n",
       "      <th>10</th>\n",
       "      <td>287.484</td>\n",
       "    </tr>\n",
       "    <tr>\n",
       "      <th>11</th>\n",
       "      <td>281.092</td>\n",
       "    </tr>\n",
       "    <tr>\n",
       "      <th>12</th>\n",
       "      <td>279.622</td>\n",
       "    </tr>\n",
       "    <tr>\n",
       "      <th rowspan=\"11\" valign=\"top\">2020</th>\n",
       "      <th>1</th>\n",
       "      <td>279.498</td>\n",
       "    </tr>\n",
       "    <tr>\n",
       "      <th>2</th>\n",
       "      <td>280.128</td>\n",
       "    </tr>\n",
       "    <tr>\n",
       "      <th>3</th>\n",
       "      <td>281.895</td>\n",
       "    </tr>\n",
       "    <tr>\n",
       "      <th>4</th>\n",
       "      <td>289.403</td>\n",
       "    </tr>\n",
       "    <tr>\n",
       "      <th>5</th>\n",
       "      <td>289.722</td>\n",
       "    </tr>\n",
       "    <tr>\n",
       "      <th>7</th>\n",
       "      <td>297.811</td>\n",
       "    </tr>\n",
       "    <tr>\n",
       "      <th>8</th>\n",
       "      <td>297.495</td>\n",
       "    </tr>\n",
       "    <tr>\n",
       "      <th>9</th>\n",
       "      <td>295.114</td>\n",
       "    </tr>\n",
       "    <tr>\n",
       "      <th>10</th>\n",
       "      <td>284.751</td>\n",
       "    </tr>\n",
       "    <tr>\n",
       "      <th>11</th>\n",
       "      <td>281.434</td>\n",
       "    </tr>\n",
       "    <tr>\n",
       "      <th>12</th>\n",
       "      <td>278.686</td>\n",
       "    </tr>\n",
       "    <tr>\n",
       "      <th rowspan=\"12\" valign=\"top\">2021</th>\n",
       "      <th>1</th>\n",
       "      <td>276.707</td>\n",
       "    </tr>\n",
       "    <tr>\n",
       "      <th>2</th>\n",
       "      <td>282.394</td>\n",
       "    </tr>\n",
       "    <tr>\n",
       "      <th>3</th>\n",
       "      <td>282.332</td>\n",
       "    </tr>\n",
       "    <tr>\n",
       "      <th>4</th>\n",
       "      <td>286.107</td>\n",
       "    </tr>\n",
       "    <tr>\n",
       "      <th>5</th>\n",
       "      <td>288.660</td>\n",
       "    </tr>\n",
       "    <tr>\n",
       "      <th>6</th>\n",
       "      <td>296.247</td>\n",
       "    </tr>\n",
       "    <tr>\n",
       "      <th>7</th>\n",
       "      <td>296.012</td>\n",
       "    </tr>\n",
       "    <tr>\n",
       "      <th>8</th>\n",
       "      <td>294.257</td>\n",
       "    </tr>\n",
       "    <tr>\n",
       "      <th>9</th>\n",
       "      <td>294.165</td>\n",
       "    </tr>\n",
       "    <tr>\n",
       "      <th>10</th>\n",
       "      <td>286.423</td>\n",
       "    </tr>\n",
       "    <tr>\n",
       "      <th>11</th>\n",
       "      <td>280.614</td>\n",
       "    </tr>\n",
       "    <tr>\n",
       "      <th>12</th>\n",
       "      <td>280.118</td>\n",
       "    </tr>\n",
       "    <tr>\n",
       "      <th rowspan=\"12\" valign=\"top\">2022</th>\n",
       "      <th>1</th>\n",
       "      <td>278.696</td>\n",
       "    </tr>\n",
       "    <tr>\n",
       "      <th>2</th>\n",
       "      <td>280.988</td>\n",
       "    </tr>\n",
       "    <tr>\n",
       "      <th>3</th>\n",
       "      <td>284.698</td>\n",
       "    </tr>\n",
       "    <tr>\n",
       "      <th>4</th>\n",
       "      <td>287.033</td>\n",
       "    </tr>\n",
       "    <tr>\n",
       "      <th>5</th>\n",
       "      <td>293.630</td>\n",
       "    </tr>\n",
       "    <tr>\n",
       "      <th>6</th>\n",
       "      <td>296.852</td>\n",
       "    </tr>\n",
       "    <tr>\n",
       "      <th>7</th>\n",
       "      <td>299.191</td>\n",
       "    </tr>\n",
       "    <tr>\n",
       "      <th>8</th>\n",
       "      <td>297.708</td>\n",
       "    </tr>\n",
       "    <tr>\n",
       "      <th>9</th>\n",
       "      <td>290.681</td>\n",
       "    </tr>\n",
       "    <tr>\n",
       "      <th>10</th>\n",
       "      <td>289.800</td>\n",
       "    </tr>\n",
       "    <tr>\n",
       "      <th>11</th>\n",
       "      <td>283.447</td>\n",
       "    </tr>\n",
       "    <tr>\n",
       "      <th>12</th>\n",
       "      <td>278.516</td>\n",
       "    </tr>\n",
       "  </tbody>\n",
       "</table>\n",
       "</div>"
      ],
      "text/plain": [
       "            temperature_ambient\n",
       "Year Month                     \n",
       "2019 4                  284.742\n",
       "     5                  287.412\n",
       "     6                  297.837\n",
       "     7                  297.372\n",
       "     8                  294.657\n",
       "     9                  290.038\n",
       "     10                 287.484\n",
       "     11                 281.092\n",
       "     12                 279.622\n",
       "2020 1                  279.498\n",
       "     2                  280.128\n",
       "     3                  281.895\n",
       "     4                  289.403\n",
       "     5                  289.722\n",
       "     7                  297.811\n",
       "     8                  297.495\n",
       "     9                  295.114\n",
       "     10                 284.751\n",
       "     11                 281.434\n",
       "     12                 278.686\n",
       "2021 1                  276.707\n",
       "     2                  282.394\n",
       "     3                  282.332\n",
       "     4                  286.107\n",
       "     5                  288.660\n",
       "     6                  296.247\n",
       "     7                  296.012\n",
       "     8                  294.257\n",
       "     9                  294.165\n",
       "     10                 286.423\n",
       "     11                 280.614\n",
       "     12                 280.118\n",
       "2022 1                  278.696\n",
       "     2                  280.988\n",
       "     3                  284.698\n",
       "     4                  287.033\n",
       "     5                  293.630\n",
       "     6                  296.852\n",
       "     7                  299.191\n",
       "     8                  297.708\n",
       "     9                  290.681\n",
       "     10                 289.800\n",
       "     11                 283.447\n",
       "     12                 278.516"
      ]
     },
     "execution_count": 40,
     "metadata": {},
     "output_type": "execute_result"
    }
   ],
   "source": [
    "df_bus_temp = df_bus[['time_iso', 'temperature_ambient']].copy()\n",
    "\n",
    "# Convert to date format\n",
    "df_bus_temp['time_iso'] = pd.to_datetime(df_bus_temp['time_iso']) \n",
    "\n",
    "df_bus_temp['Month'] = df_bus_temp['time_iso'].dt.month\n",
    "df_bus_temp['Year'] = df_bus_temp['time_iso'].dt.year\n",
    "df_bus_temp.groupby(['Year','Month'])[['temperature_ambient']].mean().round(3)"
   ]
  },
  {
   "cell_type": "markdown",
   "id": "eb3e1224-a4be-49ab-b6d9-74222b6820a0",
   "metadata": {
    "editable": true,
    "slideshow": {
     "slide_type": ""
    },
    "tags": []
   },
   "source": [
    "### 15. For each bus compute the total time when the halt brake is active and the total time when the park brake is active. Compute also the ratio between those two times."
   ]
  },
  {
   "cell_type": "markdown",
   "id": "3a37cb12-2b1d-45e8-ab5c-f0c69c361423",
   "metadata": {},
   "source": [
    "* For this question, we will use the dataframe \"df_bus\" but only the necessary columns.\n",
    "* We make the filter when the \"halt brake\" and \"park brake\" are equal to 1 but we store it in different           variables.\n",
    "* We make a merge of these 2 variables in which we will have 3 columns: \"name\", \"time_haltbrake\" and             \"time_parkbrake\".\n",
    "    * The merge will be with a \"how = outer\" to obtain only the rows where the column \"name\" matches.\n",
    "* We create a new column that will be the \"ratio\" which will be the division of the 2 times columns."
   ]
  },
  {
   "cell_type": "code",
   "execution_count": 41,
   "id": "4bbb21fd-7a95-4232-a852-1ca9eb96ffa7",
   "metadata": {
    "tags": []
   },
   "outputs": [
    {
     "data": {
      "text/html": [
       "<div>\n",
       "<style scoped>\n",
       "    .dataframe tbody tr th:only-of-type {\n",
       "        vertical-align: middle;\n",
       "    }\n",
       "\n",
       "    .dataframe tbody tr th {\n",
       "        vertical-align: top;\n",
       "    }\n",
       "\n",
       "    .dataframe thead th {\n",
       "        text-align: right;\n",
       "    }\n",
       "</style>\n",
       "<table border=\"1\" class=\"dataframe\">\n",
       "  <thead>\n",
       "    <tr style=\"text-align: right;\">\n",
       "      <th></th>\n",
       "      <th>index</th>\n",
       "      <th>time_haltbrake</th>\n",
       "    </tr>\n",
       "  </thead>\n",
       "  <tbody>\n",
       "    <tr>\n",
       "      <th>0</th>\n",
       "      <td>B183_2020-10-18_02-59-27_2020-10-18_23-04-45</td>\n",
       "      <td>27995</td>\n",
       "    </tr>\n",
       "    <tr>\n",
       "      <th>1</th>\n",
       "      <td>B183_2020-09-13_03-15-37_2020-09-13_23-04-59</td>\n",
       "      <td>27753</td>\n",
       "    </tr>\n",
       "    <tr>\n",
       "      <th>2</th>\n",
       "      <td>B183_2020-05-01_02-57-52_2020-05-01_22-51-26</td>\n",
       "      <td>27317</td>\n",
       "    </tr>\n",
       "    <tr>\n",
       "      <th>3</th>\n",
       "      <td>B208_2022-08-14_03-10-03_2022-08-14_22-59-22</td>\n",
       "      <td>27109</td>\n",
       "    </tr>\n",
       "    <tr>\n",
       "      <th>4</th>\n",
       "      <td>B208_2022-08-17_03-03-04_2022-08-17_23-02-05</td>\n",
       "      <td>26261</td>\n",
       "    </tr>\n",
       "    <tr>\n",
       "      <th>...</th>\n",
       "      <td>...</td>\n",
       "      <td>...</td>\n",
       "    </tr>\n",
       "    <tr>\n",
       "      <th>1251</th>\n",
       "      <td>B183_2022-11-12_00-07-31_2022-11-12_03-13-05</td>\n",
       "      <td>2842</td>\n",
       "    </tr>\n",
       "    <tr>\n",
       "      <th>1252</th>\n",
       "      <td>B208_2022-05-28_23-05-54_2022-05-29_02-18-32</td>\n",
       "      <td>2785</td>\n",
       "    </tr>\n",
       "    <tr>\n",
       "      <th>1253</th>\n",
       "      <td>B183_2022-10-21_13-39-31_2022-10-21_16-43-32</td>\n",
       "      <td>2783</td>\n",
       "    </tr>\n",
       "    <tr>\n",
       "      <th>1254</th>\n",
       "      <td>B183_2022-07-19_03-40-03_2022-07-19_07-02-16</td>\n",
       "      <td>2770</td>\n",
       "    </tr>\n",
       "    <tr>\n",
       "      <th>1255</th>\n",
       "      <td>B183_2022-06-24_23-09-54_2022-06-25_02-17-26</td>\n",
       "      <td>2369</td>\n",
       "    </tr>\n",
       "  </tbody>\n",
       "</table>\n",
       "<p>1256 rows × 2 columns</p>\n",
       "</div>"
      ],
      "text/plain": [
       "                                             index  time_haltbrake\n",
       "0     B183_2020-10-18_02-59-27_2020-10-18_23-04-45           27995\n",
       "1     B183_2020-09-13_03-15-37_2020-09-13_23-04-59           27753\n",
       "2     B183_2020-05-01_02-57-52_2020-05-01_22-51-26           27317\n",
       "3     B208_2022-08-14_03-10-03_2022-08-14_22-59-22           27109\n",
       "4     B208_2022-08-17_03-03-04_2022-08-17_23-02-05           26261\n",
       "...                                            ...             ...\n",
       "1251  B183_2022-11-12_00-07-31_2022-11-12_03-13-05            2842\n",
       "1252  B208_2022-05-28_23-05-54_2022-05-29_02-18-32            2785\n",
       "1253  B183_2022-10-21_13-39-31_2022-10-21_16-43-32            2783\n",
       "1254  B183_2022-07-19_03-40-03_2022-07-19_07-02-16            2770\n",
       "1255  B183_2022-06-24_23-09-54_2022-06-25_02-17-26            2369\n",
       "\n",
       "[1256 rows x 2 columns]"
      ]
     },
     "execution_count": 41,
     "metadata": {},
     "output_type": "execute_result"
    }
   ],
   "source": [
    "df_bus_15=df_bus[['name', 'status_haltBrakeIsActive','status_parkBrakeIsActive']].copy()\n",
    "df_bus_haltbrake=df_bus_15[df_bus_15['status_haltBrakeIsActive']==1]\n",
    "total_HB=df_bus_haltbrake['name'].value_counts().reset_index(name='time_haltbrake')\n",
    "total_HB"
   ]
  },
  {
   "cell_type": "code",
   "execution_count": 42,
   "id": "67bfe0d5-eded-48ee-bc2c-9f5b46810376",
   "metadata": {
    "tags": []
   },
   "outputs": [
    {
     "data": {
      "text/html": [
       "<div>\n",
       "<style scoped>\n",
       "    .dataframe tbody tr th:only-of-type {\n",
       "        vertical-align: middle;\n",
       "    }\n",
       "\n",
       "    .dataframe tbody tr th {\n",
       "        vertical-align: top;\n",
       "    }\n",
       "\n",
       "    .dataframe thead th {\n",
       "        text-align: right;\n",
       "    }\n",
       "</style>\n",
       "<table border=\"1\" class=\"dataframe\">\n",
       "  <thead>\n",
       "    <tr style=\"text-align: right;\">\n",
       "      <th></th>\n",
       "      <th>index</th>\n",
       "      <th>time_parkbrake</th>\n",
       "    </tr>\n",
       "  </thead>\n",
       "  <tbody>\n",
       "    <tr>\n",
       "      <th>0</th>\n",
       "      <td>B183_2019-07-07_01-27-19_2019-07-07_23-01-12</td>\n",
       "      <td>18511</td>\n",
       "    </tr>\n",
       "    <tr>\n",
       "      <th>1</th>\n",
       "      <td>B183_2020-05-01_02-57-52_2020-05-01_22-51-26</td>\n",
       "      <td>16329</td>\n",
       "    </tr>\n",
       "    <tr>\n",
       "      <th>2</th>\n",
       "      <td>B183_2020-10-18_02-59-27_2020-10-18_23-04-45</td>\n",
       "      <td>15373</td>\n",
       "    </tr>\n",
       "    <tr>\n",
       "      <th>3</th>\n",
       "      <td>B183_2022-06-05_02-53-59_2022-06-05_20-50-50</td>\n",
       "      <td>15190</td>\n",
       "    </tr>\n",
       "    <tr>\n",
       "      <th>4</th>\n",
       "      <td>B183_2022-05-22_03-15-35_2022-05-22_22-39-10</td>\n",
       "      <td>14676</td>\n",
       "    </tr>\n",
       "    <tr>\n",
       "      <th>...</th>\n",
       "      <td>...</td>\n",
       "      <td>...</td>\n",
       "    </tr>\n",
       "    <tr>\n",
       "      <th>1404</th>\n",
       "      <td>B208_2022-05-19_04-23-30_2022-05-19_07-36-06</td>\n",
       "      <td>82</td>\n",
       "    </tr>\n",
       "    <tr>\n",
       "      <th>1405</th>\n",
       "      <td>B208_2021-05-25_04-22-38_2021-05-25_07-32-26</td>\n",
       "      <td>81</td>\n",
       "    </tr>\n",
       "    <tr>\n",
       "      <th>1406</th>\n",
       "      <td>B183_2021-05-26_04-09-35_2021-05-26_07-34-27</td>\n",
       "      <td>75</td>\n",
       "    </tr>\n",
       "    <tr>\n",
       "      <th>1407</th>\n",
       "      <td>B208_2021-10-19_04-21-03_2021-10-19_07-38-05</td>\n",
       "      <td>72</td>\n",
       "    </tr>\n",
       "    <tr>\n",
       "      <th>1408</th>\n",
       "      <td>B208_2021-06-23_13-15-07_2021-06-23_18-25-12</td>\n",
       "      <td>63</td>\n",
       "    </tr>\n",
       "  </tbody>\n",
       "</table>\n",
       "<p>1409 rows × 2 columns</p>\n",
       "</div>"
      ],
      "text/plain": [
       "                                             index  time_parkbrake\n",
       "0     B183_2019-07-07_01-27-19_2019-07-07_23-01-12           18511\n",
       "1     B183_2020-05-01_02-57-52_2020-05-01_22-51-26           16329\n",
       "2     B183_2020-10-18_02-59-27_2020-10-18_23-04-45           15373\n",
       "3     B183_2022-06-05_02-53-59_2022-06-05_20-50-50           15190\n",
       "4     B183_2022-05-22_03-15-35_2022-05-22_22-39-10           14676\n",
       "...                                            ...             ...\n",
       "1404  B208_2022-05-19_04-23-30_2022-05-19_07-36-06              82\n",
       "1405  B208_2021-05-25_04-22-38_2021-05-25_07-32-26              81\n",
       "1406  B183_2021-05-26_04-09-35_2021-05-26_07-34-27              75\n",
       "1407  B208_2021-10-19_04-21-03_2021-10-19_07-38-05              72\n",
       "1408  B208_2021-06-23_13-15-07_2021-06-23_18-25-12              63\n",
       "\n",
       "[1409 rows x 2 columns]"
      ]
     },
     "execution_count": 42,
     "metadata": {},
     "output_type": "execute_result"
    }
   ],
   "source": [
    "df_bus_parkbrake=df_bus_15[df_bus_15['status_parkBrakeIsActive']==1]\n",
    "total_PB=df_bus_parkbrake['name'].value_counts().reset_index(name='time_parkbrake')\n",
    "total_PB"
   ]
  },
  {
   "cell_type": "code",
   "execution_count": 43,
   "id": "7d592085-d734-4afc-a267-72d3f7e18223",
   "metadata": {},
   "outputs": [
    {
     "data": {
      "text/html": [
       "<div>\n",
       "<style scoped>\n",
       "    .dataframe tbody tr th:only-of-type {\n",
       "        vertical-align: middle;\n",
       "    }\n",
       "\n",
       "    .dataframe tbody tr th {\n",
       "        vertical-align: top;\n",
       "    }\n",
       "\n",
       "    .dataframe thead th {\n",
       "        text-align: right;\n",
       "    }\n",
       "</style>\n",
       "<table border=\"1\" class=\"dataframe\">\n",
       "  <thead>\n",
       "    <tr style=\"text-align: right;\">\n",
       "      <th></th>\n",
       "      <th>index</th>\n",
       "      <th>time_haltbrake</th>\n",
       "      <th>time_parkbrake</th>\n",
       "      <th>ratio_2</th>\n",
       "    </tr>\n",
       "  </thead>\n",
       "  <tbody>\n",
       "    <tr>\n",
       "      <th>0</th>\n",
       "      <td>B183_2020-10-18_02-59-27_2020-10-18_23-04-45</td>\n",
       "      <td>27995</td>\n",
       "      <td>15373</td>\n",
       "      <td>1.821050</td>\n",
       "    </tr>\n",
       "    <tr>\n",
       "      <th>1</th>\n",
       "      <td>B183_2020-09-13_03-15-37_2020-09-13_23-04-59</td>\n",
       "      <td>27753</td>\n",
       "      <td>10466</td>\n",
       "      <td>2.651729</td>\n",
       "    </tr>\n",
       "    <tr>\n",
       "      <th>2</th>\n",
       "      <td>B183_2020-05-01_02-57-52_2020-05-01_22-51-26</td>\n",
       "      <td>27317</td>\n",
       "      <td>16329</td>\n",
       "      <td>1.672913</td>\n",
       "    </tr>\n",
       "    <tr>\n",
       "      <th>3</th>\n",
       "      <td>B208_2022-08-14_03-10-03_2022-08-14_22-59-22</td>\n",
       "      <td>27109</td>\n",
       "      <td>13891</td>\n",
       "      <td>1.951551</td>\n",
       "    </tr>\n",
       "    <tr>\n",
       "      <th>4</th>\n",
       "      <td>B208_2022-08-17_03-03-04_2022-08-17_23-02-05</td>\n",
       "      <td>26261</td>\n",
       "      <td>9682</td>\n",
       "      <td>2.712353</td>\n",
       "    </tr>\n",
       "    <tr>\n",
       "      <th>...</th>\n",
       "      <td>...</td>\n",
       "      <td>...</td>\n",
       "      <td>...</td>\n",
       "      <td>...</td>\n",
       "    </tr>\n",
       "    <tr>\n",
       "      <th>1251</th>\n",
       "      <td>B183_2022-11-12_00-07-31_2022-11-12_03-13-05</td>\n",
       "      <td>2842</td>\n",
       "      <td>806</td>\n",
       "      <td>3.526055</td>\n",
       "    </tr>\n",
       "    <tr>\n",
       "      <th>1252</th>\n",
       "      <td>B208_2022-05-28_23-05-54_2022-05-29_02-18-32</td>\n",
       "      <td>2785</td>\n",
       "      <td>785</td>\n",
       "      <td>3.547771</td>\n",
       "    </tr>\n",
       "    <tr>\n",
       "      <th>1253</th>\n",
       "      <td>B183_2022-10-21_13-39-31_2022-10-21_16-43-32</td>\n",
       "      <td>2783</td>\n",
       "      <td>585</td>\n",
       "      <td>4.757265</td>\n",
       "    </tr>\n",
       "    <tr>\n",
       "      <th>1254</th>\n",
       "      <td>B183_2022-07-19_03-40-03_2022-07-19_07-02-16</td>\n",
       "      <td>2770</td>\n",
       "      <td>578</td>\n",
       "      <td>4.792388</td>\n",
       "    </tr>\n",
       "    <tr>\n",
       "      <th>1255</th>\n",
       "      <td>B183_2022-06-24_23-09-54_2022-06-25_02-17-26</td>\n",
       "      <td>2369</td>\n",
       "      <td>601</td>\n",
       "      <td>3.941764</td>\n",
       "    </tr>\n",
       "  </tbody>\n",
       "</table>\n",
       "<p>1256 rows × 4 columns</p>\n",
       "</div>"
      ],
      "text/plain": [
       "                                             index  time_haltbrake  \\\n",
       "0     B183_2020-10-18_02-59-27_2020-10-18_23-04-45           27995   \n",
       "1     B183_2020-09-13_03-15-37_2020-09-13_23-04-59           27753   \n",
       "2     B183_2020-05-01_02-57-52_2020-05-01_22-51-26           27317   \n",
       "3     B208_2022-08-14_03-10-03_2022-08-14_22-59-22           27109   \n",
       "4     B208_2022-08-17_03-03-04_2022-08-17_23-02-05           26261   \n",
       "...                                            ...             ...   \n",
       "1251  B183_2022-11-12_00-07-31_2022-11-12_03-13-05            2842   \n",
       "1252  B208_2022-05-28_23-05-54_2022-05-29_02-18-32            2785   \n",
       "1253  B183_2022-10-21_13-39-31_2022-10-21_16-43-32            2783   \n",
       "1254  B183_2022-07-19_03-40-03_2022-07-19_07-02-16            2770   \n",
       "1255  B183_2022-06-24_23-09-54_2022-06-25_02-17-26            2369   \n",
       "\n",
       "      time_parkbrake   ratio_2  \n",
       "0              15373  1.821050  \n",
       "1              10466  2.651729  \n",
       "2              16329  1.672913  \n",
       "3              13891  1.951551  \n",
       "4               9682  2.712353  \n",
       "...              ...       ...  \n",
       "1251             806  3.526055  \n",
       "1252             785  3.547771  \n",
       "1253             585  4.757265  \n",
       "1254             578  4.792388  \n",
       "1255             601  3.941764  \n",
       "\n",
       "[1256 rows x 4 columns]"
      ]
     },
     "execution_count": 43,
     "metadata": {},
     "output_type": "execute_result"
    }
   ],
   "source": [
    "# In this case we don't specify \"how\" because it returns only rows that have matching values in both key columns.\n",
    "df_ratio_2 = pd.merge(total_HB, total_PB, on='index')\n",
    "\n",
    "# Calculate the ratio between the two times\n",
    "df_ratio_2['ratio_2'] = df_ratio_2['time_haltbrake'] / df_ratio_2['time_parkbrake']\n",
    "df_ratio_2"
   ]
  },
  {
   "cell_type": "markdown",
   "id": "efaf685c-37ba-4858-aaaa-5a4cf6b406ba",
   "metadata": {
    "editable": true,
    "slideshow": {
     "slide_type": ""
    },
    "tags": []
   },
   "source": [
    "### 16. For each pair of stops that are consecutive in at least a trip, compute the average speed achieved when going from the first to the second stop."
   ]
  },
  {
   "cell_type": "markdown",
   "id": "3416de15-08ae-4752-9c88-8370a17f192e",
   "metadata": {},
   "source": [
    "* For this question, we will use the dataframe \"df_bus\" but only the necessary columns.\n",
    "* Concatenate the column \"name\" and \"itcs_stopName\", separated by \"-\".\n",
    "* Then, we remove the duplicates.\n",
    "* We will get all the bus stops for each bus consecutively."
   ]
  },
  {
   "cell_type": "code",
   "execution_count": 44,
   "id": "d6a401f9-8df8-4682-97ff-aa729f5f4726",
   "metadata": {
    "tags": []
   },
   "outputs": [],
   "source": [
    "df_bus_16 = df_bus[['time_iso','itcs_stopName','odometry_vehicleSpeed','status_doorIsOpen','status_haltBrakeIsActive','status_parkBrakeIsActive','name']].copy()\n",
    "df_bus_16_1=df_bus_16.copy()\n",
    "df_bus_16_1 = df_bus_16_1[df_bus_16_1['itcs_stopName'] != '-']"
   ]
  },
  {
   "cell_type": "code",
   "execution_count": 45,
   "id": "190f4eb5-a5a4-4092-ac11-b77f2fe25026",
   "metadata": {
    "tags": []
   },
   "outputs": [
    {
     "data": {
      "text/plain": [
       "(444738, 7)"
      ]
     },
     "execution_count": 45,
     "metadata": {},
     "output_type": "execute_result"
    }
   ],
   "source": [
    "df_bus_16_1.shape"
   ]
  },
  {
   "cell_type": "markdown",
   "id": "349502dc-ebd0-4c34-9969-f665b87e91fa",
   "metadata": {},
   "source": [
    "* We create a condition that will be the column \"name\" must be equal to the previous row.\n",
    "* We use the function \"loc\", when the condition is satisfied then in the column \"pair_stop\" the \"itcs_stopName\" is concatenated.\n",
    "* If the function \"loc\" is not satisfied, then \"NaN\" appears in the column \"pair_stopName\".\n",
    "* We will obtain all the combinations of \"pair_stop\"."
   ]
  },
  {
   "cell_type": "code",
   "execution_count": 46,
   "id": "d0d49c2a-dc19-4fda-b404-8996edd44675",
   "metadata": {
    "tags": []
   },
   "outputs": [],
   "source": [
    "condition = df_bus_16_1['name'] == df_bus_16_1['name'].shift(1)\n",
    "\n",
    "df_bus_16_1.loc[condition, 'pair_stop'] = df_bus_16_1['itcs_stopName'] + '-' + df_bus_16_1['itcs_stopName'].shift(1)\n",
    "df_bus_16_1.loc[~condition, 'pair_stop'] = 'NaN'"
   ]
  },
  {
   "cell_type": "code",
   "execution_count": 47,
   "id": "65fc6f8e-e33d-49d5-994d-bc4495bf0255",
   "metadata": {
    "tags": []
   },
   "outputs": [
    {
     "data": {
      "text/html": [
       "<div>\n",
       "<style scoped>\n",
       "    .dataframe tbody tr th:only-of-type {\n",
       "        vertical-align: middle;\n",
       "    }\n",
       "\n",
       "    .dataframe tbody tr th {\n",
       "        vertical-align: top;\n",
       "    }\n",
       "\n",
       "    .dataframe thead th {\n",
       "        text-align: right;\n",
       "    }\n",
       "</style>\n",
       "<table border=\"1\" class=\"dataframe\">\n",
       "  <thead>\n",
       "    <tr style=\"text-align: right;\">\n",
       "      <th></th>\n",
       "      <th>time_iso</th>\n",
       "      <th>itcs_stopName</th>\n",
       "      <th>odometry_vehicleSpeed</th>\n",
       "      <th>status_doorIsOpen</th>\n",
       "      <th>status_haltBrakeIsActive</th>\n",
       "      <th>status_parkBrakeIsActive</th>\n",
       "      <th>name</th>\n",
       "      <th>pair_stop</th>\n",
       "    </tr>\n",
       "  </thead>\n",
       "  <tbody>\n",
       "    <tr>\n",
       "      <th>246</th>\n",
       "      <td>2019-04-30T03:23:02Z</td>\n",
       "      <td>Zürich, Herdernstrasse</td>\n",
       "      <td>0.939195</td>\n",
       "      <td>0.0</td>\n",
       "      <td>0.0</td>\n",
       "      <td>0.0</td>\n",
       "      <td>B183_2019-04-30_03-18-56_2019-04-30_08-44-20</td>\n",
       "      <td>NaN</td>\n",
       "    </tr>\n",
       "    <tr>\n",
       "      <th>322</th>\n",
       "      <td>2019-04-30T03:24:18Z</td>\n",
       "      <td>Zürich, Hardplatz</td>\n",
       "      <td>1.263030</td>\n",
       "      <td>0.0</td>\n",
       "      <td>0.0</td>\n",
       "      <td>0.0</td>\n",
       "      <td>B183_2019-04-30_03-18-56_2019-04-30_08-44-20</td>\n",
       "      <td>Zürich, Hardplatz-Zürich, Herdernstrasse</td>\n",
       "    </tr>\n",
       "    <tr>\n",
       "      <th>406</th>\n",
       "      <td>2019-04-30T03:25:42Z</td>\n",
       "      <td>Zürich, Güterbahnhof</td>\n",
       "      <td>0.643830</td>\n",
       "      <td>0.0</td>\n",
       "      <td>0.0</td>\n",
       "      <td>0.0</td>\n",
       "      <td>B183_2019-04-30_03-18-56_2019-04-30_08-44-20</td>\n",
       "      <td>Zürich, Güterbahnhof-Zürich, Hardplatz</td>\n",
       "    </tr>\n",
       "  </tbody>\n",
       "</table>\n",
       "</div>"
      ],
      "text/plain": [
       "                 time_iso           itcs_stopName  odometry_vehicleSpeed  \\\n",
       "246  2019-04-30T03:23:02Z  Zürich, Herdernstrasse               0.939195   \n",
       "322  2019-04-30T03:24:18Z       Zürich, Hardplatz               1.263030   \n",
       "406  2019-04-30T03:25:42Z    Zürich, Güterbahnhof               0.643830   \n",
       "\n",
       "     status_doorIsOpen  status_haltBrakeIsActive  status_parkBrakeIsActive  \\\n",
       "246                0.0                       0.0                       0.0   \n",
       "322                0.0                       0.0                       0.0   \n",
       "406                0.0                       0.0                       0.0   \n",
       "\n",
       "                                             name  \\\n",
       "246  B183_2019-04-30_03-18-56_2019-04-30_08-44-20   \n",
       "322  B183_2019-04-30_03-18-56_2019-04-30_08-44-20   \n",
       "406  B183_2019-04-30_03-18-56_2019-04-30_08-44-20   \n",
       "\n",
       "                                    pair_stop  \n",
       "246                                       NaN  \n",
       "322  Zürich, Hardplatz-Zürich, Herdernstrasse  \n",
       "406    Zürich, Güterbahnhof-Zürich, Hardplatz  "
      ]
     },
     "execution_count": 47,
     "metadata": {},
     "output_type": "execute_result"
    }
   ],
   "source": [
    "df_bus_16_1.head(3)"
   ]
  },
  {
   "cell_type": "code",
   "execution_count": 48,
   "id": "c5f901f0-3b41-43cd-b837-18cf502712a7",
   "metadata": {
    "tags": []
   },
   "outputs": [
    {
     "data": {
      "text/html": [
       "<div>\n",
       "<style scoped>\n",
       "    .dataframe tbody tr th:only-of-type {\n",
       "        vertical-align: middle;\n",
       "    }\n",
       "\n",
       "    .dataframe tbody tr th {\n",
       "        vertical-align: top;\n",
       "    }\n",
       "\n",
       "    .dataframe thead th {\n",
       "        text-align: right;\n",
       "    }\n",
       "</style>\n",
       "<table border=\"1\" class=\"dataframe\">\n",
       "  <thead>\n",
       "    <tr style=\"text-align: right;\">\n",
       "      <th></th>\n",
       "      <th>time_iso</th>\n",
       "      <th>itcs_stopName</th>\n",
       "      <th>odometry_vehicleSpeed</th>\n",
       "      <th>status_doorIsOpen</th>\n",
       "      <th>status_haltBrakeIsActive</th>\n",
       "      <th>status_parkBrakeIsActive</th>\n",
       "      <th>name</th>\n",
       "      <th>pair_stop</th>\n",
       "    </tr>\n",
       "  </thead>\n",
       "  <tbody>\n",
       "    <tr>\n",
       "      <th>48673038</th>\n",
       "      <td>2022-12-11T03:05:22Z</td>\n",
       "      <td>Zürich, Fronwald</td>\n",
       "      <td>8.128356</td>\n",
       "      <td>0.0</td>\n",
       "      <td>0.0</td>\n",
       "      <td>0.0</td>\n",
       "      <td>B208_2022-12-10_23-34-46_2022-12-11_03-29-05</td>\n",
       "      <td>Zürich, Fronwald-Zürich, Bahnhof Affoltern</td>\n",
       "    </tr>\n",
       "    <tr>\n",
       "      <th>48673076</th>\n",
       "      <td>2022-12-11T03:06:00Z</td>\n",
       "      <td>Zürich, Unteraffoltern</td>\n",
       "      <td>8.845134</td>\n",
       "      <td>0.0</td>\n",
       "      <td>0.0</td>\n",
       "      <td>0.0</td>\n",
       "      <td>B208_2022-12-10_23-34-46_2022-12-11_03-29-05</td>\n",
       "      <td>Zürich, Unteraffoltern-Zürich, Fronwald</td>\n",
       "    </tr>\n",
       "    <tr>\n",
       "      <th>48673166</th>\n",
       "      <td>2022-12-11T03:07:30Z</td>\n",
       "      <td>Zürich, Schwandenholz</td>\n",
       "      <td>8.379841</td>\n",
       "      <td>0.0</td>\n",
       "      <td>0.0</td>\n",
       "      <td>0.0</td>\n",
       "      <td>B208_2022-12-10_23-34-46_2022-12-11_03-29-05</td>\n",
       "      <td>Zürich, Schwandenholz-Zürich, Unteraffoltern</td>\n",
       "    </tr>\n",
       "  </tbody>\n",
       "</table>\n",
       "</div>"
      ],
      "text/plain": [
       "                      time_iso           itcs_stopName  odometry_vehicleSpeed  \\\n",
       "48673038  2022-12-11T03:05:22Z        Zürich, Fronwald               8.128356   \n",
       "48673076  2022-12-11T03:06:00Z  Zürich, Unteraffoltern               8.845134   \n",
       "48673166  2022-12-11T03:07:30Z   Zürich, Schwandenholz               8.379841   \n",
       "\n",
       "          status_doorIsOpen  status_haltBrakeIsActive  \\\n",
       "48673038                0.0                       0.0   \n",
       "48673076                0.0                       0.0   \n",
       "48673166                0.0                       0.0   \n",
       "\n",
       "          status_parkBrakeIsActive  \\\n",
       "48673038                       0.0   \n",
       "48673076                       0.0   \n",
       "48673166                       0.0   \n",
       "\n",
       "                                                  name  \\\n",
       "48673038  B208_2022-12-10_23-34-46_2022-12-11_03-29-05   \n",
       "48673076  B208_2022-12-10_23-34-46_2022-12-11_03-29-05   \n",
       "48673166  B208_2022-12-10_23-34-46_2022-12-11_03-29-05   \n",
       "\n",
       "                                             pair_stop  \n",
       "48673038    Zürich, Fronwald-Zürich, Bahnhof Affoltern  \n",
       "48673076       Zürich, Unteraffoltern-Zürich, Fronwald  \n",
       "48673166  Zürich, Schwandenholz-Zürich, Unteraffoltern  "
      ]
     },
     "execution_count": 48,
     "metadata": {},
     "output_type": "execute_result"
    }
   ],
   "source": [
    "df_bus_16_1.tail(3)"
   ]
  },
  {
   "cell_type": "markdown",
   "id": "dcfe8704-a519-4d3b-83a6-72d3ae43e171",
   "metadata": {},
   "source": [
    "* The index of this last dataframe will be stored in a variable.\n",
    "* We apply a \"for\" to evaluate for all the values of this created variable.\n",
    "* We will use the function \"loc\" to add the \"pair_stop\" in the original dataframe with the index \"i\" of the previous dataframe, because both dataframes have the same index.\n",
    "* We obtain in the original dataframe \"df_bus_16\" the precise locations of the \"pair_stop\"."
   ]
  },
  {
   "cell_type": "code",
   "execution_count": 49,
   "id": "614ed474-5564-4a53-a968-5fc2e01b278a",
   "metadata": {
    "tags": []
   },
   "outputs": [],
   "source": [
    "list_index = df_bus_16_1.index.tolist()\n",
    "\n",
    "for i in list_index:\n",
    "    df_bus_16.loc[i, \"pair_stop\"] = df_bus_16_1.loc[i, \"pair_stop\"]"
   ]
  },
  {
   "cell_type": "markdown",
   "id": "672a1472-7d4c-4d12-9057-f6297894706d",
   "metadata": {},
   "source": [
    "* Now we need to add the rest of the blanks in the \"pair_stop\" column.\n",
    "* We will use the \"fillna\" function, which allows us to fill or replace values.\n",
    "* We will use the \"method=bfill\", which is the backward fill method.\n",
    "* Because we want the current bus stop - the previous one from the previous stop to the current stop.\n",
    "* Then, the dataframe will be complete all the blanks in the \"pair_stop\" column."
   ]
  },
  {
   "cell_type": "code",
   "execution_count": 50,
   "id": "704e39bc-f06a-4584-89d9-54286d478ff0",
   "metadata": {
    "tags": []
   },
   "outputs": [],
   "source": [
    "df_bus_16['pair_stop'] = df_bus_16['pair_stop'].fillna(method='bfill')"
   ]
  },
  {
   "cell_type": "code",
   "execution_count": 51,
   "id": "c97bf530-94be-450f-9c99-4d35a0e56030",
   "metadata": {
    "tags": []
   },
   "outputs": [
    {
     "data": {
      "text/plain": [
       "(48674462, 8)"
      ]
     },
     "execution_count": 51,
     "metadata": {},
     "output_type": "execute_result"
    }
   ],
   "source": [
    "df_bus_16.shape"
   ]
  },
  {
   "cell_type": "markdown",
   "id": "a8da5f49-49a4-490f-8d46-be2579b1f313",
   "metadata": {},
   "source": [
    "* To answer the question, we do the following: \n",
    "    * We group by \"pair_sop\" and calculate the sum of \"odometry_vehicleSpeed\" values for each group.\n",
    "    * Then we group by \"pair_sop\" and calculate the quantity of \"time_iso\" values for each group.\n",
    "* Both are stored in different variables\n",
    "* We make a merge of these 2 variables with common column \"pair_stop\".\n",
    "* We make a column calculation that will be the \"mean_speed\" which is the division of the sum of the \"odometry_vehicleSpeed\" and the number of rows of \"time_iso\".\n",
    "* We will obtain the average speed per pair of consecutive stops."
   ]
  },
  {
   "cell_type": "code",
   "execution_count": 52,
   "id": "a825c13e-ad15-4b3f-8d75-a77e2328c6ca",
   "metadata": {
    "tags": []
   },
   "outputs": [
    {
     "data": {
      "text/html": [
       "<div>\n",
       "<style scoped>\n",
       "    .dataframe tbody tr th:only-of-type {\n",
       "        vertical-align: middle;\n",
       "    }\n",
       "\n",
       "    .dataframe tbody tr th {\n",
       "        vertical-align: top;\n",
       "    }\n",
       "\n",
       "    .dataframe thead th {\n",
       "        text-align: right;\n",
       "    }\n",
       "</style>\n",
       "<table border=\"1\" class=\"dataframe\">\n",
       "  <thead>\n",
       "    <tr style=\"text-align: right;\">\n",
       "      <th></th>\n",
       "      <th>pair_stop</th>\n",
       "      <th>odometry_vehicleSpeed</th>\n",
       "      <th>time_iso</th>\n",
       "      <th>mean_speed</th>\n",
       "    </tr>\n",
       "  </thead>\n",
       "  <tbody>\n",
       "    <tr>\n",
       "      <th>0</th>\n",
       "      <td>NaN</td>\n",
       "      <td>8.105006e+06</td>\n",
       "      <td>2395107</td>\n",
       "      <td>3.383985</td>\n",
       "    </tr>\n",
       "    <tr>\n",
       "      <th>1</th>\n",
       "      <td>Zürich, Albisrank-Zürich, Flurstrasse</td>\n",
       "      <td>2.079127e+06</td>\n",
       "      <td>503048</td>\n",
       "      <td>4.133060</td>\n",
       "    </tr>\n",
       "    <tr>\n",
       "      <th>2</th>\n",
       "      <td>Zürich, Albisrank-Zürich, Hubertus</td>\n",
       "      <td>2.561356e+06</td>\n",
       "      <td>443220</td>\n",
       "      <td>5.778972</td>\n",
       "    </tr>\n",
       "    <tr>\n",
       "      <th>3</th>\n",
       "      <td>Zürich, Albisriederplatz-Zürich, Altes Kremato...</td>\n",
       "      <td>1.603413e+06</td>\n",
       "      <td>785357</td>\n",
       "      <td>2.041635</td>\n",
       "    </tr>\n",
       "    <tr>\n",
       "      <th>4</th>\n",
       "      <td>Zürich, Albisriederplatz-Zürich, Escher-Wyss-P...</td>\n",
       "      <td>1.726490e+03</td>\n",
       "      <td>304</td>\n",
       "      <td>5.679242</td>\n",
       "    </tr>\n",
       "    <tr>\n",
       "      <th>...</th>\n",
       "      <td>...</td>\n",
       "      <td>...</td>\n",
       "      <td>...</td>\n",
       "      <td>...</td>\n",
       "    </tr>\n",
       "    <tr>\n",
       "      <th>376</th>\n",
       "      <td>Zürich, Zwinglihaus-Zürich, Goldbrunnenplatz</td>\n",
       "      <td>7.560722e+04</td>\n",
       "      <td>23942</td>\n",
       "      <td>3.157932</td>\n",
       "    </tr>\n",
       "    <tr>\n",
       "      <th>377</th>\n",
       "      <td>Zürich, Zwinglihaus-Zürich, Schmiede Wiedikon</td>\n",
       "      <td>4.753743e+05</td>\n",
       "      <td>134534</td>\n",
       "      <td>3.533488</td>\n",
       "    </tr>\n",
       "    <tr>\n",
       "      <th>378</th>\n",
       "      <td>Zürich, Zwinglihaus-Zürich,Kalkbreite/Bhf.Wied...</td>\n",
       "      <td>1.105723e+05</td>\n",
       "      <td>25409</td>\n",
       "      <td>4.351699</td>\n",
       "    </tr>\n",
       "    <tr>\n",
       "      <th>379</th>\n",
       "      <td>Zürich,Kalkbreite/Bhf.Wiedikon-Zürich, Kernstr...</td>\n",
       "      <td>7.800030e+04</td>\n",
       "      <td>25108</td>\n",
       "      <td>3.106592</td>\n",
       "    </tr>\n",
       "    <tr>\n",
       "      <th>380</th>\n",
       "      <td>Zürich,Kalkbreite/Bhf.Wiedikon-Zürich, Zwingli...</td>\n",
       "      <td>1.229195e+05</td>\n",
       "      <td>32999</td>\n",
       "      <td>3.724947</td>\n",
       "    </tr>\n",
       "  </tbody>\n",
       "</table>\n",
       "<p>381 rows × 4 columns</p>\n",
       "</div>"
      ],
      "text/plain": [
       "                                             pair_stop  odometry_vehicleSpeed  \\\n",
       "0                                                  NaN           8.105006e+06   \n",
       "1                Zürich, Albisrank-Zürich, Flurstrasse           2.079127e+06   \n",
       "2                   Zürich, Albisrank-Zürich, Hubertus           2.561356e+06   \n",
       "3    Zürich, Albisriederplatz-Zürich, Altes Kremato...           1.603413e+06   \n",
       "4    Zürich, Albisriederplatz-Zürich, Escher-Wyss-P...           1.726490e+03   \n",
       "..                                                 ...                    ...   \n",
       "376       Zürich, Zwinglihaus-Zürich, Goldbrunnenplatz           7.560722e+04   \n",
       "377      Zürich, Zwinglihaus-Zürich, Schmiede Wiedikon           4.753743e+05   \n",
       "378  Zürich, Zwinglihaus-Zürich,Kalkbreite/Bhf.Wied...           1.105723e+05   \n",
       "379  Zürich,Kalkbreite/Bhf.Wiedikon-Zürich, Kernstr...           7.800030e+04   \n",
       "380  Zürich,Kalkbreite/Bhf.Wiedikon-Zürich, Zwingli...           1.229195e+05   \n",
       "\n",
       "     time_iso  mean_speed  \n",
       "0     2395107    3.383985  \n",
       "1      503048    4.133060  \n",
       "2      443220    5.778972  \n",
       "3      785357    2.041635  \n",
       "4         304    5.679242  \n",
       "..        ...         ...  \n",
       "376     23942    3.157932  \n",
       "377    134534    3.533488  \n",
       "378     25409    4.351699  \n",
       "379     25108    3.106592  \n",
       "380     32999    3.724947  \n",
       "\n",
       "[381 rows x 4 columns]"
      ]
     },
     "execution_count": 52,
     "metadata": {},
     "output_type": "execute_result"
    }
   ],
   "source": [
    "total_speed=df_bus_16.groupby('pair_stop')['odometry_vehicleSpeed'].sum().reset_index()\n",
    "total_count=df_bus_16.groupby('pair_stop')['time_iso'].count().reset_index()\n",
    "df_16 = pd.merge(total_speed, total_count, on='pair_stop')\n",
    "df_16['mean_speed'] = df_16['odometry_vehicleSpeed'] / df_16['time_iso']\n",
    "df_16"
   ]
  },
  {
   "cell_type": "markdown",
   "id": "982cb2cb-d6ab-48a7-bfbb-84e22c7fab09",
   "metadata": {},
   "source": [
    "* Another way to calculate the last part is to use the function \"agg\" (aggregate).\n",
    "* We group according to the column \"pair_stop\" and use the function \"agg\" with the columns \"odometry_vehicleSpeed\" - \"sum\" and the column \"time_iso\" - \"count\" \n",
    "* We can rename the columns.\n",
    "* Finally, calculate the column we need which would be the \"mean_speed\"."
   ]
  },
  {
   "cell_type": "code",
   "execution_count": 53,
   "id": "55f52c23-c5ec-403b-9c54-577ece9193cc",
   "metadata": {
    "tags": []
   },
   "outputs": [
    {
     "data": {
      "text/html": [
       "<div>\n",
       "<style scoped>\n",
       "    .dataframe tbody tr th:only-of-type {\n",
       "        vertical-align: middle;\n",
       "    }\n",
       "\n",
       "    .dataframe tbody tr th {\n",
       "        vertical-align: top;\n",
       "    }\n",
       "\n",
       "    .dataframe thead th {\n",
       "        text-align: right;\n",
       "    }\n",
       "</style>\n",
       "<table border=\"1\" class=\"dataframe\">\n",
       "  <thead>\n",
       "    <tr style=\"text-align: right;\">\n",
       "      <th></th>\n",
       "      <th>pair_stop</th>\n",
       "      <th>speed</th>\n",
       "      <th>count</th>\n",
       "      <th>mean_speed</th>\n",
       "    </tr>\n",
       "  </thead>\n",
       "  <tbody>\n",
       "    <tr>\n",
       "      <th>0</th>\n",
       "      <td>NaN</td>\n",
       "      <td>8.105006e+06</td>\n",
       "      <td>2395107</td>\n",
       "      <td>3.383985</td>\n",
       "    </tr>\n",
       "    <tr>\n",
       "      <th>1</th>\n",
       "      <td>Zürich, Albisrank-Zürich, Flurstrasse</td>\n",
       "      <td>2.079127e+06</td>\n",
       "      <td>503048</td>\n",
       "      <td>4.133060</td>\n",
       "    </tr>\n",
       "    <tr>\n",
       "      <th>2</th>\n",
       "      <td>Zürich, Albisrank-Zürich, Hubertus</td>\n",
       "      <td>2.561356e+06</td>\n",
       "      <td>443220</td>\n",
       "      <td>5.778972</td>\n",
       "    </tr>\n",
       "    <tr>\n",
       "      <th>3</th>\n",
       "      <td>Zürich, Albisriederplatz-Zürich, Altes Kremato...</td>\n",
       "      <td>1.603413e+06</td>\n",
       "      <td>785357</td>\n",
       "      <td>2.041635</td>\n",
       "    </tr>\n",
       "    <tr>\n",
       "      <th>4</th>\n",
       "      <td>Zürich, Albisriederplatz-Zürich, Escher-Wyss-P...</td>\n",
       "      <td>1.726490e+03</td>\n",
       "      <td>304</td>\n",
       "      <td>5.679242</td>\n",
       "    </tr>\n",
       "    <tr>\n",
       "      <th>...</th>\n",
       "      <td>...</td>\n",
       "      <td>...</td>\n",
       "      <td>...</td>\n",
       "      <td>...</td>\n",
       "    </tr>\n",
       "    <tr>\n",
       "      <th>376</th>\n",
       "      <td>Zürich, Zwinglihaus-Zürich, Goldbrunnenplatz</td>\n",
       "      <td>7.560722e+04</td>\n",
       "      <td>23942</td>\n",
       "      <td>3.157932</td>\n",
       "    </tr>\n",
       "    <tr>\n",
       "      <th>377</th>\n",
       "      <td>Zürich, Zwinglihaus-Zürich, Schmiede Wiedikon</td>\n",
       "      <td>4.753743e+05</td>\n",
       "      <td>134534</td>\n",
       "      <td>3.533488</td>\n",
       "    </tr>\n",
       "    <tr>\n",
       "      <th>378</th>\n",
       "      <td>Zürich, Zwinglihaus-Zürich,Kalkbreite/Bhf.Wied...</td>\n",
       "      <td>1.105723e+05</td>\n",
       "      <td>25409</td>\n",
       "      <td>4.351699</td>\n",
       "    </tr>\n",
       "    <tr>\n",
       "      <th>379</th>\n",
       "      <td>Zürich,Kalkbreite/Bhf.Wiedikon-Zürich, Kernstr...</td>\n",
       "      <td>7.800030e+04</td>\n",
       "      <td>25108</td>\n",
       "      <td>3.106592</td>\n",
       "    </tr>\n",
       "    <tr>\n",
       "      <th>380</th>\n",
       "      <td>Zürich,Kalkbreite/Bhf.Wiedikon-Zürich, Zwingli...</td>\n",
       "      <td>1.229195e+05</td>\n",
       "      <td>32999</td>\n",
       "      <td>3.724947</td>\n",
       "    </tr>\n",
       "  </tbody>\n",
       "</table>\n",
       "<p>381 rows × 4 columns</p>\n",
       "</div>"
      ],
      "text/plain": [
       "                                             pair_stop         speed    count  \\\n",
       "0                                                  NaN  8.105006e+06  2395107   \n",
       "1                Zürich, Albisrank-Zürich, Flurstrasse  2.079127e+06   503048   \n",
       "2                   Zürich, Albisrank-Zürich, Hubertus  2.561356e+06   443220   \n",
       "3    Zürich, Albisriederplatz-Zürich, Altes Kremato...  1.603413e+06   785357   \n",
       "4    Zürich, Albisriederplatz-Zürich, Escher-Wyss-P...  1.726490e+03      304   \n",
       "..                                                 ...           ...      ...   \n",
       "376       Zürich, Zwinglihaus-Zürich, Goldbrunnenplatz  7.560722e+04    23942   \n",
       "377      Zürich, Zwinglihaus-Zürich, Schmiede Wiedikon  4.753743e+05   134534   \n",
       "378  Zürich, Zwinglihaus-Zürich,Kalkbreite/Bhf.Wied...  1.105723e+05    25409   \n",
       "379  Zürich,Kalkbreite/Bhf.Wiedikon-Zürich, Kernstr...  7.800030e+04    25108   \n",
       "380  Zürich,Kalkbreite/Bhf.Wiedikon-Zürich, Zwingli...  1.229195e+05    32999   \n",
       "\n",
       "     mean_speed  \n",
       "0      3.383985  \n",
       "1      4.133060  \n",
       "2      5.778972  \n",
       "3      2.041635  \n",
       "4      5.679242  \n",
       "..          ...  \n",
       "376    3.157932  \n",
       "377    3.533488  \n",
       "378    4.351699  \n",
       "379    3.106592  \n",
       "380    3.724947  \n",
       "\n",
       "[381 rows x 4 columns]"
      ]
     },
     "execution_count": 53,
     "metadata": {},
     "output_type": "execute_result"
    }
   ],
   "source": [
    "df_16_2 = df_bus_16.groupby('pair_stop').agg({'odometry_vehicleSpeed': 'sum', 'time_iso': 'count'}).reset_index()\n",
    "df_16_2.columns = ['pair_stop', 'speed', 'count']\n",
    "df_16_2['mean_speed']=df_16_2['speed']/df_16_2['count']\n",
    "df_16_2"
   ]
  },
  {
   "cell_type": "code",
   "execution_count": null,
   "id": "0cfa8ccd-c6f9-46e7-b440-aaff95e10f63",
   "metadata": {},
   "outputs": [],
   "source": []
  }
 ],
 "metadata": {
  "kernelspec": {
   "display_name": "Python 3 (ipykernel)",
   "language": "python",
   "name": "python3"
  },
  "language_info": {
   "codemirror_mode": {
    "name": "ipython",
    "version": 3
   },
   "file_extension": ".py",
   "mimetype": "text/x-python",
   "name": "python",
   "nbconvert_exporter": "python",
   "pygments_lexer": "ipython3",
   "version": "3.11.4"
  }
 },
 "nbformat": 4,
 "nbformat_minor": 5
}
